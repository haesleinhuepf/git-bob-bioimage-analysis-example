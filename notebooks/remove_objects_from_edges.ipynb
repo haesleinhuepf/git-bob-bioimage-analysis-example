{
 "cells": [
  {
   "cell_type": "markdown",
   "id": "0e0aebae",
   "metadata": {},
   "source": [
    "# Remove Objects from Image Edges\n",
    "\n",
    "This notebook demonstrates how to remove objects that touch the edges of a label image using the `pyclesperanto` library."
   ]
  },
  {
   "cell_type": "markdown",
   "id": "7e904318",
   "metadata": {},
   "source": [
    "## Step 1: Load the Image\n",
    "\n",
    "We'll start by loading the label image from the data folder."
   ]
  },
  {
   "cell_type": "code",
   "execution_count": 1,
   "id": "cd3a9a21",
   "metadata": {
    "execution": {
     "iopub.execute_input": "2024-10-05T20:11:11.723612Z",
     "iopub.status.busy": "2024-10-05T20:11:11.723166Z",
     "iopub.status.idle": "2024-10-05T20:11:12.088303Z",
     "shell.execute_reply": "2024-10-05T20:11:12.087775Z"
    }
   },
   "outputs": [],
   "source": [
    "from skimage.io import imread\n",
    "\n",
    "# Load the label image\n",
    "label_image = imread('../data/blobs_labels.png')"
   ]
  },
  {
   "cell_type": "markdown",
   "id": "81b9e16e",
   "metadata": {},
   "source": [
    "## Step 2: Remove Edge-Connected Labels\n",
    "\n",
    "Using `pyclesperanto`, we remove labels (connected objects) that touch the edges of the image."
   ]
  },
  {
   "cell_type": "code",
   "execution_count": 2,
   "id": "c019f361",
   "metadata": {
    "execution": {
     "iopub.execute_input": "2024-10-05T20:11:12.090658Z",
     "iopub.status.busy": "2024-10-05T20:11:12.090247Z",
     "iopub.status.idle": "2024-10-05T20:11:12.439532Z",
     "shell.execute_reply": "2024-10-05T20:11:12.438715Z"
    }
   },
   "outputs": [
    {
     "name": "stderr",
     "output_type": "stream",
     "text": [
      "/opt/hostedtoolcache/Python/3.12.6/x64/lib/python3.12/site-packages/pyclesperanto/_core.py:97: RuntimeWarning: No backend available. Please install either OpenCL or CUDA on your system.\n",
      "  warnings.warn(\n",
      "/opt/hostedtoolcache/Python/3.12.6/x64/lib/python3.12/site-packages/pyclesperanto/_core.py:155: RuntimeWarning: No GPU backend found.\n",
      "\n",
      "pyclesperanto requires either CUDA or OpenCL libraries to be installed on your system to work.\n",
      "Please ensure you have the appropriate drivers installed and up-to-date.\n",
      "\n",
      "Alternatively, you may need to install the following additional package:\n",
      "- MacOS: `conda install -c conda-forge ocl_icd_wrapper_apple`\n",
      "- Linux: `conda install -c conda-forge ocl-icd-system`\n",
      "  warnings.warn(\n"
     ]
    },
    {
     "ename": "RuntimeError",
     "evalue": "Backend not selected.",
     "output_type": "error",
     "traceback": [
      "\u001b[0;31m---------------------------------------------------------------------------\u001b[0m",
      "\u001b[0;31mRuntimeError\u001b[0m                              Traceback (most recent call last)",
      "Cell \u001b[0;32mIn[2], line 4\u001b[0m\n\u001b[1;32m      1\u001b[0m \u001b[38;5;28;01mimport\u001b[39;00m \u001b[38;5;21;01mpyclesperanto\u001b[39;00m \u001b[38;5;28;01mas\u001b[39;00m \u001b[38;5;21;01mcle\u001b[39;00m\n\u001b[1;32m      3\u001b[0m \u001b[38;5;66;03m# Remove labels touching the edges\u001b[39;00m\n\u001b[0;32m----> 4\u001b[0m cleaned_labels \u001b[38;5;241m=\u001b[39m \u001b[43mcle\u001b[49m\u001b[38;5;241;43m.\u001b[39;49m\u001b[43mremove_labels_on_edges\u001b[49m\u001b[43m(\u001b[49m\u001b[43mlabel_image\u001b[49m\u001b[43m,\u001b[49m\u001b[43m \u001b[49m\u001b[43mexclude_x\u001b[49m\u001b[38;5;241;43m=\u001b[39;49m\u001b[38;5;28;43;01mTrue\u001b[39;49;00m\u001b[43m,\u001b[49m\u001b[43m \u001b[49m\u001b[43mexclude_y\u001b[49m\u001b[38;5;241;43m=\u001b[39;49m\u001b[38;5;28;43;01mTrue\u001b[39;49;00m\u001b[43m)\u001b[49m\n",
      "File \u001b[0;32m/opt/hostedtoolcache/Python/3.12.6/x64/lib/python3.12/site-packages/pyclesperanto/_decorators.py:71\u001b[0m, in \u001b[0;36mplugin_function.<locals>.worker_function\u001b[0;34m(*args, **kwargs)\u001b[0m\n\u001b[1;32m     68\u001b[0m     input_image_device \u001b[38;5;241m=\u001b[39m \u001b[38;5;28;01mNone\u001b[39;00m\n\u001b[1;32m     70\u001b[0m \u001b[38;5;66;03m# Use input_device if available, else use the device of the input_image if it has the attribute device, else None\u001b[39;00m\n\u001b[0;32m---> 71\u001b[0m use_device \u001b[38;5;241m=\u001b[39m input_device \u001b[38;5;129;01mor\u001b[39;00m input_image_device \u001b[38;5;129;01mor\u001b[39;00m \u001b[43mget_device\u001b[49m\u001b[43m(\u001b[49m\u001b[43m)\u001b[49m\n\u001b[1;32m     73\u001b[0m \u001b[38;5;66;03m# loop on all argument and if it is an image, push it to the device\u001b[39;00m\n\u001b[1;32m     74\u001b[0m \u001b[38;5;66;03m# if it is a device, set it to the use_device\u001b[39;00m\n\u001b[1;32m     75\u001b[0m \u001b[38;5;66;03m# if it is any other argument, do nothing\u001b[39;00m\n\u001b[1;32m     76\u001b[0m \u001b[38;5;28;01mfor\u001b[39;00m key, value \u001b[38;5;129;01min\u001b[39;00m bound\u001b[38;5;241m.\u001b[39marguments\u001b[38;5;241m.\u001b[39mitems():\n",
      "File \u001b[0;32m/opt/hostedtoolcache/Python/3.12.6/x64/lib/python3.12/site-packages/pyclesperanto/_core.py:21\u001b[0m, in \u001b[0;36mget_device\u001b[0;34m()\u001b[0m\n\u001b[1;32m     14\u001b[0m \u001b[38;5;28;01mdef\u001b[39;00m \u001b[38;5;21mget_device\u001b[39m() \u001b[38;5;241m-\u001b[39m\u001b[38;5;241m>\u001b[39m Device:\n\u001b[1;32m     15\u001b[0m \u001b[38;5;250m    \u001b[39m\u001b[38;5;124;03m\"\"\"Return the current device instance\u001b[39;00m\n\u001b[1;32m     16\u001b[0m \n\u001b[1;32m     17\u001b[0m \u001b[38;5;124;03m    Returns\u001b[39;00m\n\u001b[1;32m     18\u001b[0m \u001b[38;5;124;03m    -------\u001b[39;00m\n\u001b[1;32m     19\u001b[0m \u001b[38;5;124;03m    device : Device\u001b[39;00m\n\u001b[1;32m     20\u001b[0m \u001b[38;5;124;03m    \"\"\"\u001b[39;00m\n\u001b[0;32m---> 21\u001b[0m     \u001b[38;5;28;01mreturn\u001b[39;00m _current_device\u001b[38;5;241m.\u001b[39m_instance \u001b[38;5;129;01mor\u001b[39;00m \u001b[43mselect_device\u001b[49m\u001b[43m(\u001b[49m\u001b[43m)\u001b[49m\n",
      "File \u001b[0;32m/opt/hostedtoolcache/Python/3.12.6/x64/lib/python3.12/site-packages/pyclesperanto/_core.py:47\u001b[0m, in \u001b[0;36mselect_device\u001b[0;34m(device_id, device_type)\u001b[0m\n\u001b[1;32m     25\u001b[0m \u001b[38;5;250m\u001b[39m\u001b[38;5;124;03m\"\"\"Select a device by 'name' or 'index' and by 'type', and store it as the current device\u001b[39;00m\n\u001b[1;32m     26\u001b[0m \n\u001b[1;32m     27\u001b[0m \u001b[38;5;124;03mIf selecting the device by string, the function compares the device name and substring.\u001b[39;00m\n\u001b[0;32m   (...)\u001b[0m\n\u001b[1;32m     44\u001b[0m \u001b[38;5;124;03mdevice : Device\u001b[39;00m\n\u001b[1;32m     45\u001b[0m \u001b[38;5;124;03m\"\"\"\u001b[39;00m\n\u001b[1;32m     46\u001b[0m \u001b[38;5;28;01mif\u001b[39;00m \u001b[38;5;28misinstance\u001b[39m(device_id, \u001b[38;5;28mstr\u001b[39m):\n\u001b[0;32m---> 47\u001b[0m     device \u001b[38;5;241m=\u001b[39m \u001b[43mBackendManager\u001b[49m\u001b[38;5;241;43m.\u001b[39;49m\u001b[43mget_backend\u001b[49m\u001b[43m(\u001b[49m\u001b[43m)\u001b[49m\u001b[38;5;241m.\u001b[39mgetDeviceFromName(device_id, device_type)\n\u001b[1;32m     48\u001b[0m \u001b[38;5;28;01melif\u001b[39;00m \u001b[38;5;28misinstance\u001b[39m(device_id, \u001b[38;5;28mint\u001b[39m):\n\u001b[1;32m     49\u001b[0m     device \u001b[38;5;241m=\u001b[39m BackendManager\u001b[38;5;241m.\u001b[39mget_backend()\u001b[38;5;241m.\u001b[39mgetDeviceFromIndex(device_id, device_type)\n",
      "\u001b[0;31mRuntimeError\u001b[0m: Backend not selected."
     ]
    }
   ],
   "source": [
    "import pyclesperanto as cle\n",
    "\n",
    "# Remove labels touching the edges\n",
    "cleaned_labels = cle.remove_labels_on_edges(label_image, exclude_x=True, exclude_y=True)\n"
   ]
  },
  {
   "cell_type": "markdown",
   "id": "2fbebebb",
   "metadata": {},
   "source": [
    "## Step 3: Visualize the Result\n",
    "\n",
    "We use `stackview` to visualize the cleaned label image."
   ]
  },
  {
   "cell_type": "code",
   "execution_count": null,
   "id": "0687ef79",
   "metadata": {},
   "outputs": [],
   "source": [
    "import stackview\n",
    "\n",
    "# Visualize cleaned image\n",
    "stackview.insight(cleaned_labels)"
   ]
  }
 ],
 "metadata": {
  "language_info": {
   "codemirror_mode": {
    "name": "ipython",
    "version": 3
   },
   "file_extension": ".py",
   "mimetype": "text/x-python",
   "name": "python",
   "nbconvert_exporter": "python",
   "pygments_lexer": "ipython3",
   "version": "3.12.6"
  }
 },
 "nbformat": 4,
 "nbformat_minor": 5
}
