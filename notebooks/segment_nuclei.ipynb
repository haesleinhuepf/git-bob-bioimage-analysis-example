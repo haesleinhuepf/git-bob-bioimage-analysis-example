{
 "cells": [
  {
   "cell_type": "markdown",
   "metadata": {},
   "source": [
    "# Segmenting Nuclei in Microscopy Images\n",
    "\n",
    "This notebook demonstrates how to segment and count nuclei in a microscopy image."
   ]
  },
  {
   "cell_type": "markdown",
   "metadata": {},
   "source": [
    "## Step 1: Load the Image\n",
    "We will load the image from the data directory using `skimage.io.imread`."
   ]
  },
  {
   "cell_type": "code",
   "execution_count": null,
   "metadata": {},
   "outputs": [],
   "source": [
    "import numpy as np\n",
    "import matplotlib.pyplot as plt\n",
    "from skimage import io\n",
    "\n",
    "# Load image\n",
    "image_path = \"../data/hela-cells-8bit.jpg\"\n",
    "image = io.imread(image_path)"
   ]
  },
  {
   "cell_type": "markdown",
   "metadata": {},
   "source": [
    "## Step 2: Extract the Blue Channel\n",
    "Assuming the blue channel represents the DAPI stain for nuclei, we will extract it from the image."
   ]
  },
  {
   "cell_type": "code",
   "execution_count": null,
   "metadata": {},
   "outputs": [],
   "source": [
    "# Extract the blue channel\n",
    "blue_channel = image[..., 2]"
   ]
  },
  {
   "cell_type": "markdown",
   "metadata": {},
   "source": [
    "## Step 3: Apply Gaussian Blur\n",
    "To reduce noise in the image, we apply a Gaussian blur using `skimage.filters.gaussian`."
   ]
  },
  {
   "cell_type": "code",
   "execution_count": null,
   "metadata": {},
   "outputs": [],
   "source": [
    "from skimage import filters\n",
    "\n",
    "# Apply Gaussian blur\n",
    "blurred_image = filters.gaussian(blue_channel, sigma=1)"
   ]
  },
  {
   "cell_type": "markdown",
   "metadata": {},
   "source": [
    "## Step 4: Perform Otsu's Thresholding\n",
    "We use Otsu's method to convert the blurred image into a binary image, separating the nuclei from the background."
   ]
  },
  {
   "cell_type": "code",
   "execution_count": null,
   "metadata": {},
   "outputs": [],
   "source": [
    "# Otsu's thresholding\n",
    "thresh = filters.threshold_otsu(blurred_image)\n",
    "binary_image = blurred_image > thresh"
   ]
  },
  {
   "cell_type": "markdown",
   "metadata": {},
   "source": [
    "## Step 5: Remove Small Objects\n",
    "To clean up the binary image, remove small objects that are likely noise."
   ]
  },
  {
   "cell_type": "code",
   "execution_count": null,
   "metadata": {},
   "outputs": [],
   "source": [
    "from skimage import morphology\n",
    "\n",
    "# Remove small objects\n",
    "cleaned_image = morphology.remove_small_objects(binary_image, min_size=50)"
   ]
  },
  {
   "cell_type": "markdown",
   "metadata": {},
   "source": [
    "## Step 6: Label and Count Nuclei\n",
    "Label connected regions of the cleaned binary image and count the nuclei."
   ]
  },
  {
   "cell_type": "code",
   "execution_count": null,
   "metadata": {},
   "outputs": [],
   "source": [
    "from skimage import measure\n",
    "\n",
    "# Label connected components\n",
    "labeled_image = measure.label(cleaned_image)\n",
    "nuclei_count = labeled_image.max()\n",
    "print(f'Number of nuclei: {nuclei_count}')"
   ]
  },
  {
   "cell_type": "markdown",
   "metadata": {},
   "source": [
    "## Step 7: Visualize Results\n",
    "Finally, visualize the binary image and detected nuclei on top of the original image."
   ]
  },
  {
   "cell_type": "code",
   "execution_count": null,
   "metadata": {},
   "outputs": [],
   "source": [
    "from skimage import color\n",
    "\n",
    "# Plot results\n",
    "plt.figure(figsize=(10, 5))\n",
    "plt.subplot(1, 2, 1)\n",
    "plt.title(\"Binary Image\")\n",
    "plt.imshow(cleaned_image, cmap='gray')\n",
    "\n",
    "plt.subplot(1, 2, 2)\n",
    "plt.title(\"Detected Nuclei\")\n",
    "plt.imshow(color.label2rgb(labeled_image, image=image, bg_label=0))\n",
    "plt.show()"
   ]
  }
 ],
 "metadata": {},
 "nbformat": 4,
 "nbformat_minor": 5
}
