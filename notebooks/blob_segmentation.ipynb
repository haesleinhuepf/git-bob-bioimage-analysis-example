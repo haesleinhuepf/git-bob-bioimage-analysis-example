{
 "cells": [
  {
   "cell_type": "markdown",
   "id": "85ad1fac",
   "metadata": {},
   "source": [
    "# Blob Segmentation using OpenCV and Scikit-Image\n",
    "\n",
    "In this notebook, we will perform blob segmentation on an image using OpenCV and Scikit-Image libraries in Python. We'll use a simple example to demonstrate how to detect and label bright blobs in a grayscale image."
   ]
  },
  {
   "cell_type": "markdown",
   "id": "bfc15d6d",
   "metadata": {},
   "source": [
    "## Step 1: Import Libraries\n",
    "\n",
    "First, we need to import the necessary libraries for image processing and visualization."
   ]
  },
  {
   "cell_type": "code",
   "execution_count": 1,
   "id": "83c7d824",
   "metadata": {
    "execution": {
     "iopub.execute_input": "2024-10-12T13:20:16.731936Z",
     "iopub.status.busy": "2024-10-12T13:20:16.731936Z",
     "iopub.status.idle": "2024-10-12T13:20:16.937427Z",
     "shell.execute_reply": "2024-10-12T13:20:16.937427Z"
    }
   },
   "outputs": [
    {
     "ename": "ModuleNotFoundError",
     "evalue": "No module named 'cv2'",
     "output_type": "error",
     "traceback": [
      "\u001b[1;31m---------------------------------------------------------------------------\u001b[0m",
      "\u001b[1;31mModuleNotFoundError\u001b[0m                       Traceback (most recent call last)",
      "Cell \u001b[1;32mIn[1], line 1\u001b[0m\n\u001b[1;32m----> 1\u001b[0m \u001b[38;5;28;01mimport\u001b[39;00m \u001b[38;5;21;01mcv2\u001b[39;00m\n\u001b[0;32m      2\u001b[0m \u001b[38;5;28;01mimport\u001b[39;00m \u001b[38;5;21;01mnumpy\u001b[39;00m \u001b[38;5;28;01mas\u001b[39;00m \u001b[38;5;21;01mnp\u001b[39;00m\n\u001b[0;32m      3\u001b[0m \u001b[38;5;28;01mimport\u001b[39;00m \u001b[38;5;21;01mmatplotlib\u001b[39;00m\u001b[38;5;21;01m.\u001b[39;00m\u001b[38;5;21;01mpyplot\u001b[39;00m \u001b[38;5;28;01mas\u001b[39;00m \u001b[38;5;21;01mplt\u001b[39;00m\n",
      "\u001b[1;31mModuleNotFoundError\u001b[0m: No module named 'cv2'"
     ]
    }
   ],
   "source": [
    "import cv2\n",
    "import numpy as np\n",
    "import matplotlib.pyplot as plt\n",
    "from skimage import measure\n",
    "\n",
    "%matplotlib inline  # For Jupyter Notebook inline plots"
   ]
  },
  {
   "cell_type": "markdown",
   "id": "65c819cf",
   "metadata": {},
   "source": [
    "## Step 2: Load the Image\n",
    "\n",
    "Let's load the image `blobs.png` using OpenCV, convert it to grayscale, and display it."
   ]
  },
  {
   "cell_type": "code",
   "execution_count": null,
   "id": "97b5852f",
   "metadata": {},
   "outputs": [],
   "source": [
    "# Load image\n",
    "image = cv2.imread('blobs.png', cv2.IMREAD_GRAYSCALE)\n",
    "\n",
    "# Display the image\n",
    "plt.imshow(image, cmap='gray')\n",
    "plt.title('Original Image')\n",
    "plt.axis('off')\n",
    "plt.savefig('original_image.png')  # Save the original image\n",
    "plt.show()"
   ]
  },
  {
   "cell_type": "markdown",
   "id": "1a0d84fc",
   "metadata": {},
   "source": [
    "## Step 3: Apply Thresholding\n",
    "\n",
    "We will apply a binary threshold to the image to help segment the bright blobs."
   ]
  },
  {
   "cell_type": "code",
   "execution_count": null,
   "id": "b5fb612c",
   "metadata": {},
   "outputs": [],
   "source": [
    "# Apply a binary threshold\n",
    "_, binary_image = cv2.threshold(image, 127, 255, cv2.THRESH_BINARY)\n",
    "\n",
    "# Display binary image\n",
    "plt.imshow(binary_image, cmap='gray')\n",
    "plt.title('Binary Image')\n",
    "plt.axis('off')\n",
    "plt.savefig('binary_image.png')  # Save the binary image\n",
    "plt.show()"
   ]
  },
  {
   "cell_type": "markdown",
   "id": "a3142ba5",
   "metadata": {},
   "source": [
    "## Step 4: Label the Blobs\n",
    "\n",
    "Use the `measure.label` function from Scikit-Image to label the distinct blobs in the image. This method will assign a unique number to each connected component."
   ]
  },
  {
   "cell_type": "code",
   "execution_count": null,
   "id": "7e5657e2",
   "metadata": {},
   "outputs": [],
   "source": [
    "# Label the blobs\n",
    "labels = measure.label(binary_image, connectivity=2, background=0)\n",
    "\n",
    "# Display labeled image with random colors\n",
    "plt.imshow(labels, cmap='nipy_spectral')\n",
    "plt.title('Labeled Image')\n",
    "plt.axis('off')\n",
    "plt.savefig('labeled_image.png')  # Save the labeled image\n",
    "plt.show()"
   ]
  },
  {
   "cell_type": "markdown",
   "id": "dc9d1c69",
   "metadata": {},
   "source": [
    "## Step 5: Export the Data\n",
    "\n",
    "Finally, we will save the labeled data into a CSV file for later analysis."
   ]
  },
  {
   "cell_type": "code",
   "execution_count": null,
   "id": "df0e7fe3",
   "metadata": {},
   "outputs": [],
   "source": [
    "# Save labels as CSV\n",
    "np.savetxt('blob_labels.csv', labels, delimiter=',', fmt='%d')\n",
    "print('Blob labels saved to blob_labels.csv')"
   ]
  }
 ],
 "metadata": {
  "language_info": {
   "codemirror_mode": {
    "name": "ipython",
    "version": 3
   },
   "file_extension": ".py",
   "mimetype": "text/x-python",
   "name": "python",
   "nbconvert_exporter": "python",
   "pygments_lexer": "ipython3",
   "version": "3.11.10"
  }
 },
 "nbformat": 4,
 "nbformat_minor": 5
}
