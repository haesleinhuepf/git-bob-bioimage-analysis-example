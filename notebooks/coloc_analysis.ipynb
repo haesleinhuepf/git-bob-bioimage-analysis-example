{
 "cells": [
  {
   "cell_type": "markdown",
   "metadata": {},
   "source": [
    "# Colocalization Analysis\n",
    "\n",
    "In this notebook, we will perform a colocalization analysis on a fluorescence microscopy image. We aim to segment and identify nuclei in different color channels and determine the degree of overlap between these segmented areas. \n",
    "\n",
    "**Source**: Heriche et al\n",
    "***License***: [CC BY 4.0](https://creativecommons.org/licenses/by/4.0/)\n"
   ]
  },
  {
   "cell_type": "markdown",
   "metadata": {},
   "source": [
    "## Step 1: Load the Image\n",
    "First, let's load the image file, which is stored in the `data` folder. The image contains two main color channels: green and red."
   ]
  },
  {
   "cell_type": "code",
   "execution_count": null,
   "metadata": {},
   "outputs": [],
   "source": [
    "from skimage import io\n",
    "import matplotlib.pyplot as plt\n",
    "\n",
    "# Load the image\n",
    "image = io.imread('../data/coloc_example.png')\n",
    "\n",
    "# Display the image\n",
    "plt.imshow(image)\n",
    "plt.title('Fluorescent Microscopy Image')\n",
    "plt.axis('off')\n",
    "plt.show()"
   ]
  },
  {
   "cell_type": "markdown",
   "metadata": {},
   "source": [
    "## Step 2: Channel Separation\n",
    "We will separate the image into its red and green fluorescence channels for individual analysis."
   ]
  },
  {
   "cell_type": "code",
   "execution_count": null,
   "metadata": {},
   "outputs": [],
   "source": [
    "# Separate the channels\n",
    "red_channel = image[:, :, 0]\n",
    "green_channel = image[:, :, 1]\n",
    "\n",
    "# Display channels\n",
    "fig, ax = plt.subplots(1, 2, figsize=(10, 5))\n",
    "ax[0].imshow(red_channel, cmap='Reds')\n",
    "ax[0].set_title('Red Channel')\n",
    "ax[0].axis('off')\n",
    "ax[1].imshow(green_channel, cmap='Greens')\n",
    "ax[1].set_title('Green Channel')\n",
    "ax[1].axis('off')\n",
    "plt.show()"
   ]
  },
  {
   "cell_type": "markdown",
   "metadata": {},
   "source": [
    "## Step 3: Thresholding to Segment Nuclei\n",
    "We will use Otsu's method to determine thresholds for segmenting the nuclei in each channel."
   ]
  },
  {
   "cell_type": "code",
   "execution_count": null,
   "metadata": {},
   "outputs": [],
   "source": [
    "from skimage import filters\n",
    "\n",
    "# Compute thresholds\n",
    "red_thresh = filters.threshold_otsu(red_channel)\n",
    "green_thresh = filters.threshold_otsu(green_channel)\n",
    "\n",
    "# Segment nuclei\n",
    "red_nuclei = red_channel > red_thresh\n",
    "green_nuclei = green_channel > green_thresh\n",
    "\n",
    "# Display segmented nuclei\n",
    "fig, ax = plt.subplots(1, 2, figsize=(10, 5))\n",
    "ax[0].imshow(red_nuclei, cmap='gray')\n",
    "ax[0].set_title('Segmented Red Nuclei')\n",
    "ax[0].axis('off')\n",
    "ax[1].imshow(green_nuclei, cmap='gray')\n",
    "ax[1].set_title('Segmented Green Nuclei')\n",
    "ax[1].axis('off')\n",
    "plt.show()"
   ]
  },
  {
   "cell_type": "markdown",
   "metadata": {},
   "source": [
    "## Step 4: Identify Colocalized Nuclei\n",
    "Let's find nuclei that appear in both the red and green channels by combining the segmented images."
   ]
  },
  {
   "cell_type": "code",
   "execution_count": null,
   "metadata": {},
   "outputs": [],
   "source": [
    "import numpy as np\n",
    "from skimage import measure\n",
    "\n",
    "# Find colocalized nuclei\n",
    "common_nuclei = np.logical_and(red_nuclei, green_nuclei)\n",
    "common_labels = measure.label(common_nuclei)\n",
    "\n",
    "# Show colocalized nuclei\n",
    "plt.imshow(common_nuclei, cmap='gray')\n",
    "plt.title('Colocalized Nuclei')\n",
    "plt.axis('off')\n",
    "plt.show()"
   ]
  },
  {
   "cell_type": "markdown",
   "metadata": {},
   "source": [
    "## Step 5: Calculate the Colocalization Ratio\n",
    "Finally, we'll compute the ratio of red nuclei that also appear green, to understand the extent of colocalization."
   ]
  },
  {
   "cell_type": "code",
   "execution_count": null,
   "metadata": {},
   "outputs": [],
   "source": [
    "# Count nuclei\n",
    "red_nuclei_count = np.unique(measure.label(red_nuclei)[measure.label(red_nuclei) > 0]).size\n",
    "common_nuclei_count = np.unique(common_labels[common_labels > 0]).size\n",
    "\n",
    "# Compute ratio\n",
    "ratio = common_nuclei_count / red_nuclei_count if red_nuclei_count > 0 else 0\n",
    "print(f\"Ratio of red nuclei also green: {ratio:.2f}\")"
   ]
  }
 ],
 "metadata": {},
 "nbformat": 4,
 "nbformat_minor": 5
}
