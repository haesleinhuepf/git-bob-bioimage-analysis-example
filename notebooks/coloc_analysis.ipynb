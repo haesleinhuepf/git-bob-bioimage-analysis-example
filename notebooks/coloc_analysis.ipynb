{
 "cells": [
  {
   "cell_type": "markdown",
   "metadata": {},
   "source": [
    "# Colocalization Analysis using Image Processing\n",
    "\n",
    "In this notebook, we will perform colocalization analysis to identify the overlap between different fluorescence channels in an image, specifically looking at red and green channels.\n",
    "\n",
    "## Image Source\n",
    "This example uses an image from Heriche et al:\n",
    "- **License:** [CC BY 4.0](https://creativecommons.org/licenses/by/4.0/)\n",
    "- **DOI:** [10.1091/mbc.E13-04-0221](https://doi.org/10.1091/mbc.E13-04-0221)\n",
    "- **Image Link:** [OMERO Image Detail](https://idr.openmicroscopy.org/webclient/img_detail/179719/)\n",
    "\n",
    "We have downloaded this image and stored it in the `data` folder as `coloc_example.png`.\n"
   ]
  },
  {
   "cell_type": "code",
   "execution_count": null,
   "metadata": {},
   "outputs": [],
   "source": [
    "# First, we import the necessary libraries\n",
    "from skimage import io, filters, measure\n",
    "from skimage.color import rgb2gray\n",
    "import numpy as np\n",
    "import matplotlib.pyplot as plt\n"
   ]
  },
  {
   "cell_type": "markdown",
   "metadata": {},
   "source": [
    "## Load and Visualize the Image\n",
    "Let's load the image we stored in the `data` directory and visualize it to understand the different channels."
   ]
  },
  {
   "cell_type": "code",
   "execution_count": null,
   "metadata": {},
   "outputs": [],
   "source": [
    "# Load the image using skimage's io.imread\n",
    "image = io.imread('../data/coloc_example.png')\n",
    "\n",
    "# Display the image to visualize its structure\n",
    "fig, (ax1, ax2) = plt.subplots(1, 2, figsize=(10, 5))\n",
    "ax1.imshow(image)\n",
    "ax1.set_title('Original Image')\n",
    "ax1.axis('off')\n",
    "\n",
    "# Let's extract and visualize the individual channels\n",
    "red_channel = image[:, :, 0]\n",
    "green_channel = image[:, :, 1]\n",
    "ax2.imshow(np.stack((red_channel, green_channel, np.zeros_like(red_channel)), axis=-1))\n",
    "ax2.set_title('Red and Green Channels')\n",
    "ax2.axis('off')\n",
    "plt.show()"
   ]
  },
  {
   "cell_type": "markdown",
   "metadata": {},
   "source": [
    "## Segmenting the Nuclei\n",
    "To identify the nuclei in the red and green channels, we will use Otsu's thresholding method from scikit-image to segment the channels."
   ]
  },
  {
   "cell_type": "code",
   "execution_count": null,
   "metadata": {},
   "outputs": [],
   "source": [
    "# Apply Otsu's threshold to segment nuclei\n",
    "red_thresh = filters.threshold_otsu(red_channel)\n",
    "green_thresh = filters.threshold_otsu(green_channel)\n",
    "\n",
    "red_nuclei = red_channel > red_thresh\n",
    "green_nuclei = green_channel > green_thresh\n"
   ]
  },
  {
   "cell_type": "markdown",
   "metadata": {},
   "source": [
    "## Label the Segmented Nuclei\n",
    "We will label the connected regions in the segmented images for further analysis."
   ]
  },
  {
   "cell_type": "code",
   "execution_count": null,
   "metadata": {},
   "outputs": [],
   "source": [
    "# Label connected components in the segmented binary images\n",
    "red_labels = measure.label(red_nuclei)\n",
    "green_labels = measure.label(green_nuclei)\n",
    "\n",
    "# Logical AND to find common areas/nuclei\n",
    "common_nuclei = np.logical_and(red_nuclei, green_nuclei)\n",
    "common_labels = measure.label(common_nuclei)\n",
    "\n",
    "# Compute number of nuclei\n",
    "red_nuclei_count = np.unique(red_labels[red_labels > 0]).size\n",
    "common_nuclei_count = np.unique(common_labels[common_labels > 0]).size\n",
    "\n",
    "# Compute the ratio of colocalized (red AND green) nuclei\n",
    "ratio = common_nuclei_count / red_nuclei_count if red_nuclei_count > 0 else 0\n",
    "\n",
    "print(f\"Number of red nuclei: {red_nuclei_count}\")\n",
    "print(f\"Number of colocalized nuclei (red & green): {common_nuclei_count}\")\n",
    "print(f\"Ratio of colocalized nuclei: {ratio:.2f}\")"
   ]
  },
  {
   "cell_type": "markdown",
   "metadata": {},
   "source": [
    "## Conclusion\n",
    "We have successfully segmented the nuclei in different fluorescence channels and determined the ratio of colocalized nuclei using scikit-image in Python. We specifically used image thresholding and logical operations for this colocalization analysis, which highlights the areas where different fluorescence signals overlap."
   ]
  }
 ],
 "metadata": {},
 "nbformat": 4,
 "nbformat_minor": 2
}
