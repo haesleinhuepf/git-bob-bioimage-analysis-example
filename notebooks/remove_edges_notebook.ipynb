{
 "cells": [
  {
   "cell_type": "markdown",
   "id": "4f57f65d",
   "metadata": {},
   "source": [
    "# Removing Edge Objects from Label Image\n",
    "\n",
    "In this notebook, we will remove objects that are touching the edges from the label image using the `pyclesperanto` library. Let's start by loading the necessary libraries and the image."
   ]
  },
  {
   "cell_type": "code",
   "execution_count": 1,
   "id": "5ff82b06",
   "metadata": {
    "execution": {
     "iopub.execute_input": "2024-10-05T20:06:01.338327Z",
     "iopub.status.busy": "2024-10-05T20:06:01.338133Z",
     "iopub.status.idle": "2024-10-05T20:06:01.839007Z",
     "shell.execute_reply": "2024-10-05T20:06:01.838435Z"
    }
   },
   "outputs": [
    {
     "name": "stderr",
     "output_type": "stream",
     "text": [
      "/opt/hostedtoolcache/Python/3.12.6/x64/lib/python3.12/site-packages/pyclesperanto/_core.py:97: RuntimeWarning: No backend available. Please install either OpenCL or CUDA on your system.\n",
      "  warnings.warn(\n",
      "/opt/hostedtoolcache/Python/3.12.6/x64/lib/python3.12/site-packages/pyclesperanto/_core.py:155: RuntimeWarning: No GPU backend found.\n",
      "\n",
      "pyclesperanto requires either CUDA or OpenCL libraries to be installed on your system to work.\n",
      "Please ensure you have the appropriate drivers installed and up-to-date.\n",
      "\n",
      "Alternatively, you may need to install the following additional package:\n",
      "- MacOS: `conda install -c conda-forge ocl_icd_wrapper_apple`\n",
      "- Linux: `conda install -c conda-forge ocl-icd-system`\n",
      "  warnings.warn(\n"
     ]
    }
   ],
   "source": [
    "import pyclesperanto as cle\n",
    "import stackview\n",
    "from skimage.io import imread"
   ]
  },
  {
   "cell_type": "code",
   "execution_count": 2,
   "id": "list_available_devices",
   "metadata": {
    "execution": {
     "iopub.execute_input": "2024-10-05T20:06:01.841315Z",
     "iopub.status.busy": "2024-10-05T20:06:01.841018Z",
     "iopub.status.idle": "2024-10-05T20:06:02.060910Z",
     "shell.execute_reply": "2024-10-05T20:06:02.059905Z"
    }
   },
   "outputs": [
    {
     "ename": "RuntimeError",
     "evalue": "Backend not selected.",
     "output_type": "error",
     "traceback": [
      "\u001b[0;31m---------------------------------------------------------------------------\u001b[0m",
      "\u001b[0;31mRuntimeError\u001b[0m                              Traceback (most recent call last)",
      "Cell \u001b[0;32mIn[2], line 1\u001b[0m\n\u001b[0;32m----> 1\u001b[0m \u001b[43mcle\u001b[49m\u001b[38;5;241;43m.\u001b[39;49m\u001b[43mlist_available_devices\u001b[49m\u001b[43m(\u001b[49m\u001b[43m)\u001b[49m\n",
      "File \u001b[0;32m/opt/hostedtoolcache/Python/3.12.6/x64/lib/python3.12/site-packages/pyclesperanto/_core.py:77\u001b[0m, in \u001b[0;36mlist_available_devices\u001b[0;34m(device_type)\u001b[0m\n\u001b[1;32m     60\u001b[0m \u001b[38;5;28;01mdef\u001b[39;00m \u001b[38;5;21mlist_available_devices\u001b[39m(device_type: \u001b[38;5;28mstr\u001b[39m \u001b[38;5;241m=\u001b[39m \u001b[38;5;124m\"\u001b[39m\u001b[38;5;124mall\u001b[39m\u001b[38;5;124m\"\u001b[39m) \u001b[38;5;241m-\u001b[39m\u001b[38;5;241m>\u001b[39m \u001b[38;5;28mlist\u001b[39m:\n\u001b[1;32m     61\u001b[0m \u001b[38;5;250m    \u001b[39m\u001b[38;5;124;03m\"\"\"Retrieve a list of names of available devices\u001b[39;00m\n\u001b[1;32m     62\u001b[0m \n\u001b[1;32m     63\u001b[0m \u001b[38;5;124;03m    Will search the system for backend compatible device available and return a list of their names.\u001b[39;00m\n\u001b[0;32m   (...)\u001b[0m\n\u001b[1;32m     75\u001b[0m \u001b[38;5;124;03m    name list : list[str]\u001b[39;00m\n\u001b[1;32m     76\u001b[0m \u001b[38;5;124;03m    \"\"\"\u001b[39;00m\n\u001b[0;32m---> 77\u001b[0m     dev_list \u001b[38;5;241m=\u001b[39m \u001b[38;5;28mlist\u001b[39m(\u001b[43mBackendManager\u001b[49m\u001b[38;5;241;43m.\u001b[39;49m\u001b[43mget_backend\u001b[49m\u001b[43m(\u001b[49m\u001b[43m)\u001b[49m\u001b[38;5;241m.\u001b[39mgetDevicesList(\u001b[38;5;28mtype\u001b[39m\u001b[38;5;241m=\u001b[39mdevice_type))\n\u001b[1;32m     78\u001b[0m     \u001b[38;5;28;01mif\u001b[39;00m \u001b[38;5;129;01mnot\u001b[39;00m dev_list:\n\u001b[1;32m     79\u001b[0m         warnings\u001b[38;5;241m.\u001b[39mwarn(\n\u001b[1;32m     80\u001b[0m             \u001b[38;5;124m\"\u001b[39m\u001b[38;5;124mNo device available. Please install either OpenCL or CUDA on your system.\u001b[39m\u001b[38;5;124m\"\u001b[39m,\n\u001b[1;32m     81\u001b[0m             \u001b[38;5;167;01mRuntimeWarning\u001b[39;00m,\n\u001b[1;32m     82\u001b[0m         )\n",
      "\u001b[0;31mRuntimeError\u001b[0m: Backend not selected."
     ]
    }
   ],
   "source": [
    "cle.list_available_devices()"
   ]
  },
  {
   "cell_type": "markdown",
   "id": "857221fd",
   "metadata": {},
   "source": [
    "## Load the Label Image\n",
    "We will load the label image from the `data` folder."
   ]
  },
  {
   "cell_type": "code",
   "execution_count": null,
   "id": "2c3665f5",
   "metadata": {
    "execution": {
     "iopub.execute_input": "2024-10-05T19:58:35.699102Z",
     "iopub.status.busy": "2024-10-05T19:58:35.698517Z",
     "iopub.status.idle": "2024-10-05T19:58:36.401215Z",
     "shell.execute_reply": "2024-10-05T19:58:36.400535Z"
    }
   },
   "outputs": [],
   "source": [
    "label_image = imread('../data/blobs_labels.png')\n",
    "\n",
    "# Visualize the original label image\n",
    "stackview.insight(label_image)"
   ]
  },
  {
   "cell_type": "markdown",
   "id": "629cc8fe",
   "metadata": {},
   "source": [
    "## Remove Edge-Connected Labels\n",
    "Now, we'll use `cle.remove_labels_on_edges` to remove objects that touch the edges of the label image."
   ]
  },
  {
   "cell_type": "code",
   "execution_count": null,
   "id": "e28bc126",
   "metadata": {
    "execution": {
     "iopub.execute_input": "2024-10-05T19:58:36.403461Z",
     "iopub.status.busy": "2024-10-05T19:58:36.403076Z",
     "iopub.status.idle": "2024-10-05T19:58:36.652115Z",
     "shell.execute_reply": "2024-10-05T19:58:36.651224Z"
    }
   },
   "outputs": [],
   "source": [
    "cleaned_labels = cle.remove_labels_on_edges(label_image, exclude_x=True, exclude_y=True)\n",
    "\n",
    "# Visualize the cleaned label image\n",
    "stackview.insight(cleaned_labels)"
   ]
  }
 ],
 "metadata": {
  "language_info": {
   "codemirror_mode": {
    "name": "ipython",
    "version": 3
   },
   "file_extension": ".py",
   "mimetype": "text/x-python",
   "name": "python",
   "nbconvert_exporter": "python",
   "pygments_lexer": "ipython3",
   "version": "3.12.6"
  }
 },
 "nbformat": 4,
 "nbformat_minor": 5
}
