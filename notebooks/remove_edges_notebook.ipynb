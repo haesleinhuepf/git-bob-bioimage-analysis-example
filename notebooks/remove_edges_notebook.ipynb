{
 "cells": [
  {
   "cell_type": "markdown",
   "id": "4f57f65d",
   "metadata": {},
   "source": [
    "# Removing Edge Objects from Label Image\n",
    "\n",
    "In this notebook, we will remove objects that are touching the edges from the label image using the `pyclesperanto` library. Let's start by loading the necessary libraries and the image."
   ]
  },
  {
   "cell_type": "code",
   "execution_count": 1,
   "id": "5ff82b06",
   "metadata": {
    "execution": {
     "iopub.execute_input": "2024-10-05T19:58:35.189176Z",
     "iopub.status.busy": "2024-10-05T19:58:35.188952Z",
     "iopub.status.idle": "2024-10-05T19:58:35.696555Z",
     "shell.execute_reply": "2024-10-05T19:58:35.696038Z"
    }
   },
   "outputs": [
    {
     "name": "stderr",
     "output_type": "stream",
     "text": [
      "/opt/hostedtoolcache/Python/3.12.6/x64/lib/python3.12/site-packages/pyclesperanto/_core.py:97: RuntimeWarning: No backend available. Please install either OpenCL or CUDA on your system.\n",
      "  warnings.warn(\n",
      "/opt/hostedtoolcache/Python/3.12.6/x64/lib/python3.12/site-packages/pyclesperanto/_core.py:155: RuntimeWarning: No GPU backend found.\n",
      "\n",
      "pyclesperanto requires either CUDA or OpenCL libraries to be installed on your system to work.\n",
      "Please ensure you have the appropriate drivers installed and up-to-date.\n",
      "\n",
      "Alternatively, you may need to install the following additional package:\n",
      "- MacOS: `conda install -c conda-forge ocl_icd_wrapper_apple`\n",
      "- Linux: `conda install -c conda-forge ocl-icd-system`\n",
      "  warnings.warn(\n"
     ]
    }
   ],
   "source": [
    "import pyclesperanto as cle\n",
    "import stackview\n",
    "from skimage.io import imread"
   ]
  },
  {
   "cell_type": "markdown",
   "id": "857221fd",
   "metadata": {},
   "source": [
    "## Load the Label Image\n",
    "We will load the label image from the `data` folder."
   ]
  },
  {
   "cell_type": "code",
   "execution_count": 2,
   "id": "2c3665f5",
   "metadata": {
    "execution": {
     "iopub.execute_input": "2024-10-05T19:58:35.699102Z",
     "iopub.status.busy": "2024-10-05T19:58:35.698517Z",
     "iopub.status.idle": "2024-10-05T19:58:36.401215Z",
     "shell.execute_reply": "2024-10-05T19:58:36.400535Z"
    }
   },
   "outputs": [
    {
     "data": {
      "text/html": [
       "<table>\n",
       "<tr>\n",
       "<td>\n",
       "<img src=\"data:image/png;base64,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\"></img>\n",
       "</td>\n",
       "<td style=\"text-align: center; vertical-align: top;\">\n",
       "\n",
       "<table>\n",
       "<tr><td>shape</td><td>(254,&nbsp;256)</td></tr>\n",
       "<tr><td>dtype</td><td>uint8</td></tr>\n",
       "<tr><td>size</td><td>63.5 kB</td></tr>\n",
       "<tr><td>min</td><td>0</td></tr><tr><td>max</td><td>255</td></tr>\n",
       "</table>\n",
       "<img src=\"data:image/png;base64,iVBORw0KGgoAAAANSUhEUgAAALQAAAB4CAYAAABb59j9AAAAOXRFWHRTb2Z0d2FyZQBNYXRwbG90bGliIHZlcnNpb24zLjkuMiwgaHR0cHM6Ly9tYXRwbG90bGliLm9yZy8hTgPZAAAACXBIWXMAAA9hAAAPYQGoP6dpAAACmUlEQVR4nO3ZMU7bUBzH8eeI1TlAFFccoPdg4DTd2Co27tKZoffgAEhBPoAjVepid6jIABUU2S9Jf/18JpuQvx/4qycTmmmapgIhVqdeACxJ0EQRNFEETRRBE0XQRBE0UQRNFEETRdBEETRRBE2Ui1qDx3Esfd+Xtm1L0zS1LkOAaZrKfr8vm82mrFbz9thqQfd9X7quqzWeQLvdrmy321kzqgXdtm0p5fci1+t1rcsQYBiG0nXdoZk5qgX9/JixXq8FzV9Z4tHUH4VEETRRqj1yvOXy5v5w/Hh3fYolEMoOTRRBE0XQRBE0UQRNFEETRdBEETRRBE0UQRNF0EQRNFEETRRBE0XQRBE0UQRNFEETRdBEETRRBE0UQRNF0EQRNFEETRRBE0XQRBE0UQRNFEETRdBEETRRBE0UQRNF0EQRNFEETRRBE0XQRBE0UQRNFEETRdBEETRRBE0UQRNF0EQRNFEETRRBE0XQRBE0UQRNFEETRdBEETRRBE0UQRNF0EQRNFEETRRBE0XQRBE0UQRNFEETRdBEETRRBE0UQRNF0EQRNFEETRRBE0XQRBE0UQRNFEETRdBEETRRBE0UQRPl4tQL+B9c3twfjh/vro/+/nO/3pIig37vhnz0hi0979iWXt85/7xnEfTLX9C570hL77jHnjf3+8/ZWQT9nvduwLF35NrvP/X8f1m1oKdpKqWUMgzDq9fGnz8Ox8MwOH9x/vnr98P5w+3Vydfz1vmnL9/KRzzcXr362nMjz83M0UxLTPmDp6en0nVdjdGE2u12ZbvdzppRLehxHEvf96Vt29I0TY1LEGKaprLf78tmsymr1bxPkqsFDafgHytEETRRBE0UQRNF0EQRNFEETRRBE0XQRBE0UX4BRMk/qJM0HfsAAAAASUVORK5CYII=\"></img>\n",
       "</td>\n",
       "</tr>\n",
       "</table>"
      ],
      "text/plain": [
       "StackViewNDArray([[ 0,  0,  0, ..., 20, 20, 20],\n",
       "                  [ 0,  0,  0, ..., 20, 20, 20],\n",
       "                  [ 0,  0,  0, ..., 20, 20, 20],\n",
       "                  ...,\n",
       "                  [ 0,  0,  0, ...,  0,  0,  0],\n",
       "                  [ 0,  0,  0, ...,  0,  0,  0],\n",
       "                  [ 0,  0,  0, ...,  0,  0,  0]], dtype=uint8)"
      ]
     },
     "execution_count": 2,
     "metadata": {},
     "output_type": "execute_result"
    }
   ],
   "source": [
    "label_image = imread('../data/blobs_labels.png')\n",
    "\n",
    "# Visualize the original label image\n",
    "stackview.insight(label_image)"
   ]
  },
  {
   "cell_type": "markdown",
   "id": "629cc8fe",
   "metadata": {},
   "source": [
    "## Remove Edge-Connected Labels\n",
    "Now, we'll use `cle.remove_labels_on_edges` to remove objects that touch the edges of the label image."
   ]
  },
  {
   "cell_type": "code",
   "execution_count": 3,
   "id": "e28bc126",
   "metadata": {
    "execution": {
     "iopub.execute_input": "2024-10-05T19:58:36.403461Z",
     "iopub.status.busy": "2024-10-05T19:58:36.403076Z",
     "iopub.status.idle": "2024-10-05T19:58:36.652115Z",
     "shell.execute_reply": "2024-10-05T19:58:36.651224Z"
    }
   },
   "outputs": [
    {
     "ename": "RuntimeError",
     "evalue": "Backend not selected.",
     "output_type": "error",
     "traceback": [
      "\u001b[0;31m---------------------------------------------------------------------------\u001b[0m",
      "\u001b[0;31mRuntimeError\u001b[0m                              Traceback (most recent call last)",
      "Cell \u001b[0;32mIn[3], line 1\u001b[0m\n\u001b[0;32m----> 1\u001b[0m cleaned_labels \u001b[38;5;241m=\u001b[39m \u001b[43mcle\u001b[49m\u001b[38;5;241;43m.\u001b[39;49m\u001b[43mremove_labels_on_edges\u001b[49m\u001b[43m(\u001b[49m\u001b[43mlabel_image\u001b[49m\u001b[43m,\u001b[49m\u001b[43m \u001b[49m\u001b[43mexclude_x\u001b[49m\u001b[38;5;241;43m=\u001b[39;49m\u001b[38;5;28;43;01mTrue\u001b[39;49;00m\u001b[43m,\u001b[49m\u001b[43m \u001b[49m\u001b[43mexclude_y\u001b[49m\u001b[38;5;241;43m=\u001b[39;49m\u001b[38;5;28;43;01mTrue\u001b[39;49;00m\u001b[43m)\u001b[49m\n\u001b[1;32m      3\u001b[0m \u001b[38;5;66;03m# Visualize the cleaned label image\u001b[39;00m\n\u001b[1;32m      4\u001b[0m stackview\u001b[38;5;241m.\u001b[39minsight(cleaned_labels)\n",
      "File \u001b[0;32m/opt/hostedtoolcache/Python/3.12.6/x64/lib/python3.12/site-packages/pyclesperanto/_decorators.py:71\u001b[0m, in \u001b[0;36mplugin_function.<locals>.worker_function\u001b[0;34m(*args, **kwargs)\u001b[0m\n\u001b[1;32m     68\u001b[0m     input_image_device \u001b[38;5;241m=\u001b[39m \u001b[38;5;28;01mNone\u001b[39;00m\n\u001b[1;32m     70\u001b[0m \u001b[38;5;66;03m# Use input_device if available, else use the device of the input_image if it has the attribute device, else None\u001b[39;00m\n\u001b[0;32m---> 71\u001b[0m use_device \u001b[38;5;241m=\u001b[39m input_device \u001b[38;5;129;01mor\u001b[39;00m input_image_device \u001b[38;5;129;01mor\u001b[39;00m \u001b[43mget_device\u001b[49m\u001b[43m(\u001b[49m\u001b[43m)\u001b[49m\n\u001b[1;32m     73\u001b[0m \u001b[38;5;66;03m# loop on all argument and if it is an image, push it to the device\u001b[39;00m\n\u001b[1;32m     74\u001b[0m \u001b[38;5;66;03m# if it is a device, set it to the use_device\u001b[39;00m\n\u001b[1;32m     75\u001b[0m \u001b[38;5;66;03m# if it is any other argument, do nothing\u001b[39;00m\n\u001b[1;32m     76\u001b[0m \u001b[38;5;28;01mfor\u001b[39;00m key, value \u001b[38;5;129;01min\u001b[39;00m bound\u001b[38;5;241m.\u001b[39marguments\u001b[38;5;241m.\u001b[39mitems():\n",
      "File \u001b[0;32m/opt/hostedtoolcache/Python/3.12.6/x64/lib/python3.12/site-packages/pyclesperanto/_core.py:21\u001b[0m, in \u001b[0;36mget_device\u001b[0;34m()\u001b[0m\n\u001b[1;32m     14\u001b[0m \u001b[38;5;28;01mdef\u001b[39;00m \u001b[38;5;21mget_device\u001b[39m() \u001b[38;5;241m-\u001b[39m\u001b[38;5;241m>\u001b[39m Device:\n\u001b[1;32m     15\u001b[0m \u001b[38;5;250m    \u001b[39m\u001b[38;5;124;03m\"\"\"Return the current device instance\u001b[39;00m\n\u001b[1;32m     16\u001b[0m \n\u001b[1;32m     17\u001b[0m \u001b[38;5;124;03m    Returns\u001b[39;00m\n\u001b[1;32m     18\u001b[0m \u001b[38;5;124;03m    -------\u001b[39;00m\n\u001b[1;32m     19\u001b[0m \u001b[38;5;124;03m    device : Device\u001b[39;00m\n\u001b[1;32m     20\u001b[0m \u001b[38;5;124;03m    \"\"\"\u001b[39;00m\n\u001b[0;32m---> 21\u001b[0m     \u001b[38;5;28;01mreturn\u001b[39;00m _current_device\u001b[38;5;241m.\u001b[39m_instance \u001b[38;5;129;01mor\u001b[39;00m \u001b[43mselect_device\u001b[49m\u001b[43m(\u001b[49m\u001b[43m)\u001b[49m\n",
      "File \u001b[0;32m/opt/hostedtoolcache/Python/3.12.6/x64/lib/python3.12/site-packages/pyclesperanto/_core.py:47\u001b[0m, in \u001b[0;36mselect_device\u001b[0;34m(device_id, device_type)\u001b[0m\n\u001b[1;32m     25\u001b[0m \u001b[38;5;250m\u001b[39m\u001b[38;5;124;03m\"\"\"Select a device by 'name' or 'index' and by 'type', and store it as the current device\u001b[39;00m\n\u001b[1;32m     26\u001b[0m \n\u001b[1;32m     27\u001b[0m \u001b[38;5;124;03mIf selecting the device by string, the function compares the device name and substring.\u001b[39;00m\n\u001b[0;32m   (...)\u001b[0m\n\u001b[1;32m     44\u001b[0m \u001b[38;5;124;03mdevice : Device\u001b[39;00m\n\u001b[1;32m     45\u001b[0m \u001b[38;5;124;03m\"\"\"\u001b[39;00m\n\u001b[1;32m     46\u001b[0m \u001b[38;5;28;01mif\u001b[39;00m \u001b[38;5;28misinstance\u001b[39m(device_id, \u001b[38;5;28mstr\u001b[39m):\n\u001b[0;32m---> 47\u001b[0m     device \u001b[38;5;241m=\u001b[39m \u001b[43mBackendManager\u001b[49m\u001b[38;5;241;43m.\u001b[39;49m\u001b[43mget_backend\u001b[49m\u001b[43m(\u001b[49m\u001b[43m)\u001b[49m\u001b[38;5;241m.\u001b[39mgetDeviceFromName(device_id, device_type)\n\u001b[1;32m     48\u001b[0m \u001b[38;5;28;01melif\u001b[39;00m \u001b[38;5;28misinstance\u001b[39m(device_id, \u001b[38;5;28mint\u001b[39m):\n\u001b[1;32m     49\u001b[0m     device \u001b[38;5;241m=\u001b[39m BackendManager\u001b[38;5;241m.\u001b[39mget_backend()\u001b[38;5;241m.\u001b[39mgetDeviceFromIndex(device_id, device_type)\n",
      "\u001b[0;31mRuntimeError\u001b[0m: Backend not selected."
     ]
    }
   ],
   "source": [
    "cleaned_labels = cle.remove_labels_on_edges(label_image, exclude_x=True, exclude_y=True)\n",
    "\n",
    "# Visualize the cleaned label image\n",
    "stackview.insight(cleaned_labels)"
   ]
  }
 ],
 "metadata": {
  "language_info": {
   "codemirror_mode": {
    "name": "ipython",
    "version": 3
   },
   "file_extension": ".py",
   "mimetype": "text/x-python",
   "name": "python",
   "nbconvert_exporter": "python",
   "pygments_lexer": "ipython3",
   "version": "3.12.6"
  }
 },
 "nbformat": 4,
 "nbformat_minor": 5
}
