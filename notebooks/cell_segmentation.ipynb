{
 "cells": [
  {
   "cell_type": "markdown",
   "metadata": {},
   "source": [
    "# Cell Segmentation\n",
    "This notebook demonstrates a workflow for segmenting cells in a microscopy image using background subtraction, marker-based watershed algorithm, and measurement of segmented areas."
   ]
  },
  {
   "cell_type": "markdown",
   "metadata": {},
   "source": [
    "## Step 1: Load the Image\n",
    "We begin by loading the fluorescence microscopy image of cells which we want to segment."
   ]
  },
  {
   "cell_type": "code",
   "execution_count": null,
   "metadata": {},
   "outputs": [],
   "source": [
    "from skimage import io\n",
    "import matplotlib.pyplot as plt\n",
    "\n",
    "image = io.imread('../data/membranes.png')\n",
    "plt.imshow(image, cmap='gray')\n",
    "plt.title('Original Image')\n",
    "plt.show()"
   ]
  },
  {
   "cell_type": "markdown",
   "metadata": {},
   "source": [
    "## Step 2: Convert to Grayscale\n",
    "Depending on the image format, it might be necessary to convert it to grayscale."
   ]
  },
  {
   "cell_type": "code",
   "execution_count": null,
   "metadata": {},
   "outputs": [],
   "source": [
    "from skimage.color import rgb2gray\n",
    "\n",
    "if len(image.shape) == 3:\n",
    "    image_gray = rgb2gray(image)\n",
    "else:\n",
    "    image_gray = image"
   ]
  },
  {
   "cell_type": "markdown",
   "metadata": {},
   "source": [
    "## Step 3: Background Subtraction using White Top-Hat\n",
    "Apply white top-hat transformation to mitigate uneven illumination in the image."
   ]
  },
  {
   "cell_type": "code",
   "execution_count": null,
   "metadata": {},
   "outputs": [],
   "source": [
    "from skimage.morphology import disk, white_tophat\n",
    "\n",
    "selem = disk(10)\n",
    "image_tophat = white_tophat(image_gray, selem)\n",
    "\n",
    "plt.imshow(image_tophat, cmap='gray')\n",
    "plt.title('Background Subtracted')\n",
    "plt.show()"
   ]
  },
  {
   "cell_type": "markdown",
   "metadata": {},
   "source": [
    "## Step 4: Compute Gradient\n",
    "Utilize the Sobel filter to calculate image gradients, highlighting edges."
   ]
  },
  {
   "cell_type": "code",
   "execution_count": null,
   "metadata": {},
   "outputs": [],
   "source": [
    "from skimage.filters import sobel\n",
    "\n",
    "gradient = sobel(image_tophat)\n",
    "plt.imshow(gradient, cmap='gray')\n",
    "plt.title('Gradient Image')\n",
    "plt.show()"
   ]
  },
  {
   "cell_type": "markdown",
   "metadata": {},
   "source": [
    "## Step 5: Enhance Marker Generation\n",
    "Create seed markers for the watershed algorithm based on local maxima in the distance-transformed image."
   ]
  },
  {
   "cell_type": "code",
   "execution_count": null,
   "metadata": {},
   "outputs": [],
   "source": [
    "from scipy import ndimage as ndi\n",
    "from skimage.feature import peak_local_max\n",
    "\n",
    "distance = ndi.distance_transform_edt(image_tophat)\n",
    "local_maxi = peak_local_max(distance, indices=False, min_distance=5)\n",
    "markers = ndi.label(local_maxi)[0]\n",
    "\n",
    "plt.imshow(markers, cmap='nipy_spectral')\n",
    "plt.title('Markers')\n",
    "plt.show()"
   ]
  },
  {
   "cell_type": "markdown",
   "metadata": {},
   "source": [
    "## Step 6: Apply Watershed Algorithm\n",
    "Segment the image using the watershed algorithm with the generated markers."
   ]
  },
  {
   "cell_type": "code",
   "execution_count": null,
   "metadata": {},
   "outputs": [],
   "source": [
    "from skimage.segmentation import watershed\n",
    "\n",
    "labeled_image = watershed(gradient, markers)\n",
    "\n",
    "plt.imshow(labeled_image, cmap='nipy_spectral')\n",
    "plt.title('Watershed Segmentation')\n",
    "plt.show()"
   ]
  },
  {
   "cell_type": "markdown",
   "metadata": {},
   "source": [
    "## Step 7: Remove Small Objects\n",
    "Clean up the segmentation by removing regions smaller than a specified size."
   ]
  },
  {
   "cell_type": "code",
   "execution_count": null,
   "metadata": {},
   "outputs": [],
   "source": [
    "from skimage.morphology import remove_small_objects\n",
    "\n",
    "cleaned_image = remove_small_objects(labeled_image, min_size=150)\n",
    "\n",
    "plt.imshow(cleaned_image, cmap='nipy_spectral')\n",
    "plt.title('Cleaned Segmentation')\n",
    "plt.show()"
   ]
  },
  {
   "cell_type": "markdown",
   "metadata": {},
   "source": [
    "## Step 8: Measure Segmented Cell Areas\n",
    "Measure the area of each segmented cell and display the results."
   ]
  },
  {
   "cell_type": "code",
   "execution_count": null,
   "metadata": {},
   "outputs": [],
   "source": [
    "from skimage.measure import regionprops_table\n",
    "\n",
    "properties = regionprops_table(cleaned_image, properties=['label', 'area'])\n",
    "import pandas as pd\n",
    "df = pd.DataFrame(properties)\n",
    "print(df)"
   ]
  }
 ],
 "metadata": {},
 "nbformat": 4,
 "nbformat_minor": 5
}
