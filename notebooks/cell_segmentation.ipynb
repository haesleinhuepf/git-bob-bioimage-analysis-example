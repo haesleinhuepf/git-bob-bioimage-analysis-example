{
 "cells": [
  {
   "cell_type": "markdown",
   "metadata": {},
   "source": [
    "# Cell Segmentation Analysis\n",
    "In this notebook, we will perform segmentation of cells from a microscopy image using background subtraction and the watershed algorithm."
   ]
  },
  {
   "cell_type": "markdown",
   "metadata": {},
   "source": [
    "## Step 1: Load the Image\n",
    "We will load the image located in the `../data` directory."
   ]
  },
  {
   "cell_type": "code",
   "execution_count": null,
   "metadata": {
    "scrolled": true
   },
   "outputs": [],
   "source": [
    "from skimage import io\n",
    "\n",
    "# Load the image\n",
    "image = io.imread('../data/membranes.png')\n",
    "image.shape"
   ]
  },
  {
   "cell_type": "markdown",
   "metadata": {},
   "source": [
    "## Step 2: Convert Image to Grayscale\n",
    "Check if the image is not already in grayscale format."
   ]
  },
  {
   "cell_type": "code",
   "execution_count": null,
   "metadata": {},
   "outputs": [],
   "source": [
    "from skimage.color import rgb2gray\n",
    "\n",
    "# Convert to grayscale if necessary\n",
    "if len(image.shape) == 3:\n",
    "    image_gray = rgb2gray(image)\n",
    "else:\n",
    "    image_gray = image"
   ]
  },
  {
   "cell_type": "markdown",
   "metadata": {},
   "source": [
    "## Step 3: Apply White Top-Hat Filter\n",
    "Use a white top-hat filter with a disk size of 10 to subtract the background."
   ]
  },
  {
   "cell_type": "code",
   "execution_count": null,
   "metadata": {},
   "outputs": [],
   "source": [
    "from skimage import morphology\n",
    "\n",
    "# Apply white top-hat transformation\n",
    "selem = morphology.disk(10)\n",
    "image_tophat = morphology.white_tophat(image_gray, selem)"
   ]
  },
  {
   "cell_type": "markdown",
   "metadata": {},
   "source": [
    "## Step 4: Compute Image Gradient\n",
    "Calculate image gradients using the Sobel filter."
   ]
  },
  {
   "cell_type": "code",
   "execution_count": null,
   "metadata": {},
   "outputs": [],
   "source": [
    "from skimage import filters\n",
    "\n",
    "# Compute gradients\n",
    "gradient = filters.sobel(image_tophat)"
   ]
  },
  {
   "cell_type": "markdown",
   "metadata": {},
   "source": [
    "## Step 5: Generate Markers for Watershed\n",
    "Markers will be based on an Otsu thresholded version of the top-hat filtered image."
   ]
  },
  {
   "cell_type": "code",
   "execution_count": null,
   "metadata": {},
   "outputs": [],
   "source": [
    "from scipy import ndimage as ndi\n",
    "\n",
    "# Create markers using thresholding\n",
    "markers = ndi.label(image_tophat < filters.threshold_otsu(image_tophat))[0]"
   ]
  },
  {
   "cell_type": "markdown",
   "metadata": {},
   "source": [
    "## Step 6: Apply the Watershed Algorithm\n",
    "Perform watershed segmentation using the computed gradient and markers."
   ]
  },
  {
   "cell_type": "code",
   "execution_count": null,
   "metadata": {},
   "outputs": [],
   "source": [
    "from skimage import segmentation\n",
    "\n",
    "# Apply watershed\n",
    "labeled_image = segmentation.watershed(gradient, markers)"
   ]
  },
  {
   "cell_type": "markdown",
   "metadata": {},
   "source": [
    "## Step 7: Remove Small Objects\n",
    "Remove small objects to clean the segmented image."
   ]
  },
  {
   "cell_type": "code",
   "execution_count": null,
   "metadata": {},
   "outputs": [],
   "source": [
    "# Clean up the segmentation\n",
    "cleaned_image = morphology.remove_small_objects(labeled_image, min_size=150)"
   ]
  },
  {
   "cell_type": "markdown",
   "metadata": {},
   "source": [
    "## Step 8: Measure Properties of Segmented Regions\n",
    "Measure the area of each segmented region and generate a table."
   ]
  },
  {
   "cell_type": "code",
   "execution_count": null,
   "metadata": {},
   "outputs": [],
   "source": [
    "from skimage import measure\n",
    "import pandas as pd\n",
    "\n",
    "# Measure region properties\n",
    "properties = measure.regionprops_table(cleaned_image, properties=['label', 'area'])\n",
    "df = pd.DataFrame(properties)\n",
    "df.head()"
   ]
  },
  {
   "cell_type": "markdown",
   "metadata": {},
   "source": [
    "## Step 9: Display Results\n",
    "Visualize the original image, the background-subtracted image, and the segmented cells."
   ]
  },
  {
   "cell_type": "code",
   "execution_count": null,
   "metadata": {},
   "outputs": [],
   "source": [
    "import matplotlib.pyplot as plt\n",
    "from skimage.color import label2rgb\n",
    "\n",
    "# Show the original, background-subtracted, and labeled images\n",
    "fig, ax = plt.subplots(1, 3, figsize=(15, 5))\n",
    "ax[0].imshow(image, cmap='gray')\n",
    "ax[0].set_title('Original Image')\n",
    "ax[1].imshow(image_tophat, cmap='gray')\n",
    "ax[1].set_title('Background Subtracted')\n",
    "ax[2].imshow(label2rgb(cleaned_image, image=image, bg_label=0), cmap='nipy_spectral')\n",
    "ax[2].set_title('Segmented Cells')\n",
    "plt.show()"
   ]
  }
 ],
 "metadata": {},
 "nbformat": 4,
 "nbformat_minor": 5
}
