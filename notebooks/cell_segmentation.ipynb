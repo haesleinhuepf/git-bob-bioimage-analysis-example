{
 "cells": [
  {
   "cell_type": "markdown",
   "metadata": {},
   "source": [
    "# Cell Segmentation with Watershed\n",
    "\n",
    "In this notebook, we will segment cells from a microscopy image using the watershed algorithm. We aim to partition the image into meaningful regions representing individual cells.\n",
    "\n",
    "## Step 1: Load the Image\n",
    "We will first load the image that is saved in the `data` directory."
   ]
  },
  {
   "cell_type": "code",
   "execution_count": null,
   "metadata": {},
   "outputs": [],
   "source": [
    "import numpy as np\n",
    "import matplotlib.pyplot as plt\n",
    "from skimage import io\n",
    "\n",
    "# Load the image\n",
    "image = io.imread('../data/membrane2d.png', as_gray=True)\n",
    "\n",
    "# Display the original image\n",
    "plt.imshow(image, cmap='gray')\n",
    "plt.title('Original Image')\n",
    "plt.axis('off')\n",
    "plt.show()"
   ]
  },
  {
   "cell_type": "markdown",
   "metadata": {},
   "source": [
    "## Step 2: Enhance Contrast\n",
    "Enhancing the contrast of the image can help improve the segmentation results."
   ]
  },
  {
   "cell_type": "code",
   "execution_count": null,
   "metadata": {},
   "outputs": [],
   "source": [
    "from skimage import filters, morphology\n",
    "\n",
    "# Enhance the contrast\n",
    "image_enhanced = filters.rank.enhance_contrast(image, morphology.disk(3))\n",
    "\n",
    "# Display the enhanced image\n",
    "plt.imshow(image_enhanced, cmap='gray')\n",
    "plt.title('Enhanced Contrast Image')\n",
    "plt.axis('off')\n",
    "plt.show()"
   ]
  },
  {
   "cell_type": "markdown",
   "metadata": {},
   "source": [
    "## Step 3: Thresholding\n",
    "We now apply a threshold to create a binary image that will help in identifying regions for segmentation."
   ]
  },
  {
   "cell_type": "code",
   "execution_count": null,
   "metadata": {},
   "outputs": [],
   "source": [
    "# Apply Otsu's threshold\n",
    "binary = image_enhanced > filters.threshold_otsu(image_enhanced)\n",
    "\n",
    "# Display the binary image\n",
    "plt.imshow(binary, cmap='gray')\n",
    "plt.title('Binary Image')\n",
    "plt.axis('off')\n",
    "plt.show()"
   ]
  },
  {
   "cell_type": "markdown",
   "metadata": {},
   "source": [
    "## Step 4: Distance Transform\n",
    "Next, we compute the distance transform to identify the background and prepare for the watershed algorithm."
   ]
  },
  {
   "cell_type": "code",
   "execution_count": null,
   "metadata": {},
   "outputs": [],
   "source": [
    "from scipy import ndimage as ndi\n",
    "\n",
    "# Compute the distance transform\n",
    "distance = ndi.distance_transform_edt(binary)\n",
    "\n",
    "# Display the distance transform\n",
    "plt.imshow(distance, cmap='magma')\n",
    "plt.title('Distance Transform')\n",
    "plt.axis('off')\n",
    "plt.show()"
   ]
  },
  {
   "cell_type": "markdown",
   "metadata": {},
   "source": [
    "## Step 5: Apply Watershed\n",
    "We now apply the watershed algorithm to segment the cells based on the distance map."
   ]
  },
  {
   "cell_type": "code",
   "execution_count": null,
   "metadata": {},
   "outputs": [],
   "source": [
    "from skimage import feature, segmentation, measure\n",
    "\n",
    "# Find local maxima\n",
    "local_maxi = feature.peak_local_max(distance, indices=False, labels=binary)\n",
    "\n",
    "# Generate markers\n",
    "markers = ndi.label(local_maxi)[0]\n",
    "\n",
    "# Apply watershed\n",
    "labels = segmentation.watershed(-distance, markers, mask=binary)\n",
    "\n",
    "# Display the segmented image\n",
    "plt.imshow(labels, cmap='nipy_spectral')\n",
    "plt.title('Watershed Segmentation')\n",
    "plt.axis('off')\n",
    "plt.show()"
   ]
  },
  {
   "cell_type": "markdown",
   "metadata": {},
   "source": [
    "## Step 6: Measure Cell Areas\n",
    "Lastly, we measure the area of segmented cell regions and calculate the average cell area."
   ]
  },
  {
   "cell_type": "code",
   "execution_count": null,
   "metadata": {},
   "outputs": [],
   "source": [
    "# Measure regions and calculate areas\n",
    "props = measure.regionprops(labels)\n",
    "areas = [prop.area for prop in props]\n",
    "average_area = np.mean(areas)\n",
    "\n",
    "print(f\"Average cell area: {average_area:.2f} pixels\")"
   ]
  }
 ],
 "metadata": {},
 "nbformat": 4,
 "nbformat_minor": 5
}
