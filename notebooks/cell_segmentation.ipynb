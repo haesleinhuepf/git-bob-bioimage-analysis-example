{
 "cells": [
  {
   "cell_type": "markdown",
   "metadata": {},
   "source": [
    "# Cell Segmentation using Watershed Algorithm\n",
    "\n",
    "In this notebook, we will segment cells from a microscopy image using the watershed algorithm. This method is advantageous for separating overlapping objects.\n",
    "\n",
    "Let's start by loading the necessary libraries."
   ]
  },
  {
   "cell_type": "code",
   "execution_count": null,
   "metadata": {},
   "outputs": [],
   "source": [
    "from skimage import io, filters, measure, morphology, segmentation, color\n",
    "import matplotlib.pyplot as plt\n",
    "from scipy import ndimage as ndi\n",
    "import pandas as pd"
   ]
  },
  {
   "cell_type": "markdown",
   "metadata": {},
   "source": [
    "## Step 1: Load the Image\n",
    "\n",
    "We will load the image from the `data` folder. Make sure the image is saved as `membranes.png` in that directory."
   ]
  },
  {
   "cell_type": "code",
   "execution_count": null,
   "metadata": {},
   "outputs": [],
   "source": [
    "image = io.imread('data/membranes.png')\n",
    "plt.imshow(image, cmap='gray')\n",
    "plt.title('Original Image')\n",
    "plt.show()"
   ]
  },
  {
   "cell_type": "markdown",
   "metadata": {},
   "source": [
    "## Step 2: Preprocess the Image\n",
    "\n",
    "Convert the image to grayscale if necessary. Compute the local gradients using the Sobel operator to emphasize the cell boundaries."
   ]
  },
  {
   "cell_type": "code",
   "execution_count": null,
   "metadata": {},
   "outputs": [],
   "source": [
    "if len(image.shape) == 3:\n",
    "    from skimage.color import rgb2gray\n",
    "    image_gray = rgb2gray(image)\n",
    "else:\n",
    "    image_gray = image\n",
    "\n",
    "gradient = filters.sobel(image_gray)\n",
    "plt.imshow(gradient, cmap='gray')\n",
    "plt.title('Gradient Magnitude')\n",
    "plt.show()"
   ]
  },
  {
   "cell_type": "markdown",
   "metadata": {},
   "source": [
    "## Step 3: Generate Markers\n",
    "\n",
    "Create markers for the watershed algorithm. Here, we will use a simple global threshold to find the markers."
   ]
  },
  {
   "cell_type": "code",
   "execution_count": null,
   "metadata": {},
   "outputs": [],
   "source": [
    "markers = ndi.label(image_gray < filters.threshold_otsu(image_gray))[0]\n",
    "plt.imshow(markers, cmap='nipy_spectral')\n",
    "plt.title('Markers')\n",
    "plt.show()"
   ]
  },
  {
   "cell_type": "markdown",
   "metadata": {},
   "source": [
    "## Step 4: Apply the Watershed Algorithm\n",
    "\n",
    "Segment the cells using the watershed algorithm. This method uses the gradient image and the markers for segmentation."
   ]
  },
  {
   "cell_type": "code",
   "execution_count": null,
   "metadata": {},
   "outputs": [],
   "source": [
    "labeled_image = segmentation.watershed(gradient, markers)\n",
    "\n",
    "plt.imshow(color.label2rgb(labeled_image, image=image, bg_label=0))\n",
    "plt.title('Segmented Cells')\n",
    "plt.show()"
   ]
  },
  {
   "cell_type": "markdown",
   "metadata": {},
   "source": [
    "## Step 5: Post-process and Analyze Segmented Objects\n",
    "\n",
    "Remove small objects to clean the labeled image. Then, measure properties such as area of the segmented cells."
   ]
  },
  {
   "cell_type": "code",
   "execution_count": null,
   "metadata": {},
   "outputs": [],
   "source": [
    "cleaned_image = morphology.remove_small_objects(labeled_image, min_size=150)\n",
    "properties = measure.regionprops_table(cleaned_image, properties=['label', 'area'])\n",
    "\n",
    "df = pd.DataFrame(properties)\n",
    "df"
   ]
  },
  {
   "cell_type": "markdown",
   "metadata": {},
   "source": [
    "The areas of the segmented cells have been calculated. You can further use this data for more detailed analysis."
   ]
  }
 ],
 "metadata": {},
 "nbformat": 4,
 "nbformat_minor": 5
}
