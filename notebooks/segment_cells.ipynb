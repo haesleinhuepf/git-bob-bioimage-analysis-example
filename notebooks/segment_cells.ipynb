{
 "cells": [
  {
   "cell_type": "markdown",
   "metadata": {},
   "source": [
    "# Segmenting Cells in Microscopy Image\n",
    "\n",
    "This notebook aims to segment cells in a provided microscopy image and measure their areas using the watershed algorithm."
   ]
  },
  {
   "cell_type": "markdown",
   "metadata": {},
   "source": [
    "## Step 1: Load and Preprocess the Image\n",
    "First, we load the image and convert it to grayscale if necessary."
   ]
  },
  {
   "cell_type": "code",
   "execution_count": null,
   "metadata": {},
   "outputs": [],
   "source": [
    "from skimage import io, color\n",
    "import matplotlib.pyplot as plt\n",
    "\n",
    "# Load the image\n",
    "image = io.imread('../data/membranes.png')\n",
    "\n",
    "# Convert to grayscale if necessary\n",
    "if len(image.shape) == 3:\n",
    "    image_gray = color.rgb2gray(image)\n",
    "else:\n",
    "    image_gray = image\n",
    "\n",
    "# Display the original image\n",
    "plt.imshow(image_gray, cmap='gray')\n",
    "plt.title('Grayscale Image')\n",
    "plt.axis('off')\n",
    "plt.show()"
   ]
  },
  {
   "cell_type": "markdown",
   "metadata": {},
   "source": [
    "## Step 2: Apply the Watershed Algorithm\n",
    "Next, we compute the local gradient of the image and apply the watershed algorithm."
   ]
  },
  {
   "cell_type": "code",
   "execution_count": null,
   "metadata": {},
   "outputs": [],
   "source": [
    "from skimage import filters, morphology, segmentation\n",
    "from scipy import ndimage as ndi\n",
    "\n",
    "# Compute the local gradients\n",
    "gradient = filters.sobel(image_gray)\n",
    "\n",
    "# Generate markers\n",
    "markers = ndi.label(image_gray < filters.threshold_otsu(image_gray))[0]\n",
    "\n",
    "# Apply watershed\n",
    "labeled_image = segmentation.watershed(gradient, markers)\n",
    "\n",
    "# Display the watershed result\n",
    "plt.imshow(labeled_image, cmap='nipy_spectral')\n",
    "plt.title('Watershed Segmented Image')\n",
    "plt.axis('off')\n",
    "plt.show()"
   ]
  },
  {
   "cell_type": "markdown",
   "metadata": {},
   "source": [
    "## Step 3: Clean and Analyze the Segmented Regions\n",
    "We remove small objects from the labeled image and measure the remaining objects' areas."
   ]
  },
  {
   "cell_type": "code",
   "execution_count": null,
   "metadata": {},
   "outputs": [],
   "source": [
    "from skimage import measure\n",
    "import pandas as pd\n",
    "\n",
    "# Remove small objects\n",
    "cleaned_image = morphology.remove_small_objects(labeled_image, min_size=150)\n",
    "\n",
    "# Measure properties of labeled regions\n",
    "properties = measure.regionprops_table(cleaned_image, properties=['label', 'area'])\n",
    "\ndf = pd.DataFrame(properties)\n",
    "df.head()"
   ]
  },
  {
   "cell_type": "markdown",
   "metadata": {},
   "source": [
    "## Step 4: Visualize and Interpret Results\n",
    "Finally, we visualize the cleaned regions and print out the areas of each segmented cell."
   ]
  },
  {
   "cell_type": "code",
   "execution_count": null,
   "metadata": {},
   "outputs": [],
   "source": [
    "from skimage import color\n",
    "\n",
    "# Display the cleaned image with color labels\n",
    "plt.imshow(color.label2rgb(cleaned_image, image=image_gray, bg_label=0), cmap='nipy_spectral')\n",
    "plt.title('Cleaned Segmented Cells')\n",
    "plt.axis('off')\n",
    "plt.show()\n",
    "\n",
    "# Print the areas of the segmented cells\n",
    "print(df)"
   ]
  }
 ],
 "metadata": {},
 "nbformat": 4,
 "nbformat_minor": 2
}
