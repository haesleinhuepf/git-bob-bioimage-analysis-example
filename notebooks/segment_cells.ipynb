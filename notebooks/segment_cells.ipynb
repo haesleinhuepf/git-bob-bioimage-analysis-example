{
 "cells": [
  {
   "cell_type": "markdown",
   "metadata": {},
   "source": [
    "# Segment Cells with Seeded Watershed\n",
    "\n",
    "In this notebook, we will segment cells from a fluorescence microscopy image using the seeded watershed algorithm starting from local minima.\n",
    "\n",
    "### Steps to be followed:\n",
    "1. Load the image\n",
    "2. Pre-process the image\n",
    "3. Apply local minima as seeds\n",
    "4. Perform watershed segmentation\n",
    "5. Save and display the segmented label image"
   ]
  },
  {
   "cell_type": "markdown",
   "metadata": {},
   "source": [
    "## Step 1: Load the Image\n",
    "\n",
    "We will load the image `membranes.png` from the data directory."
   ]
  },
  {
   "cell_type": "code",
   "execution_count": 1,
   "metadata": {
    "execution": {
     "iopub.execute_input": "2024-10-12T15:22:08.831769Z",
     "iopub.status.busy": "2024-10-12T15:22:08.831555Z",
     "iopub.status.idle": "2024-10-12T15:22:09.196137Z",
     "shell.execute_reply": "2024-10-12T15:22:09.195495Z"
    }
   },
   "outputs": [],
   "source": [
    "from skimage.io import imread\n",
    "\n",
    "# Load the image\n",
    "image_path = '../data/membranes.png'\n",
    "image = imread(image_path)"
   ]
  },
  {
   "cell_type": "markdown",
   "metadata": {},
   "source": [
    "## Step 2: Pre-process the Image\n",
    "\n",
    "We will apply a Gaussian blur to the image to reduce noise and enhance the structures for segmentation."
   ]
  },
  {
   "cell_type": "code",
   "execution_count": 2,
   "metadata": {
    "execution": {
     "iopub.execute_input": "2024-10-12T15:22:09.198500Z",
     "iopub.status.busy": "2024-10-12T15:22:09.198074Z",
     "iopub.status.idle": "2024-10-12T15:22:11.289912Z",
     "shell.execute_reply": "2024-10-12T15:22:11.289324Z"
    }
   },
   "outputs": [
    {
     "name": "stderr",
     "output_type": "stream",
     "text": [
      "/opt/hostedtoolcache/Python/3.12.7/x64/lib/python3.12/site-packages/napari_tools_menu/__init__.py:10: UserWarning: Importing QT failed; now introducing dummy definitions of QMenu class and register_function decorator.\n",
      "  warnings.warn(\"Importing QT failed; now introducing dummy definitions of QMenu class and register_function decorator.\")\n",
      "/opt/hostedtoolcache/Python/3.12.7/x64/lib/python3.12/site-packages/napari_tools_menu/__init__.py:221: UserWarning: Error in monkey patching napari. Please let @haesleinleinhuepf know at\n",
      "https://github.com/haesleinhuepf/napari-tools-menu/issues\n",
      "  warnings.warn(\"Error in monkey patching napari. Please let @haesleinleinhuepf know at\\nhttps://github.com/haesleinhuepf/napari-tools-menu/issues\")\n",
      "/opt/hostedtoolcache/Python/3.12.7/x64/lib/python3.12/site-packages/napari_skimage_regionprops/_table.py:7: UserWarning: No Qt bindings could be found\n",
      "  warnings.warn(str(e))\n"
     ]
    }
   ],
   "source": [
    "import napari_simpleitk_image_processing as nsitk\n",
    "\n",
    "# Apply Gaussian Blur\n",
    "smoothed_image = nsitk.gaussian_blur(image, variance_x=1, variance_y=1)"
   ]
  },
  {
   "cell_type": "markdown",
   "metadata": {},
   "source": [
    "## Step 3: Apply Local Minima as Seeds\n",
    "\n",
    "We will determine the local minima to use as seeds for the watershed algorithm. This helps in identifying potential starting points for segmenting each cell."
   ]
  },
  {
   "cell_type": "code",
   "execution_count": 3,
   "metadata": {
    "execution": {
     "iopub.execute_input": "2024-10-12T15:22:11.292414Z",
     "iopub.status.busy": "2024-10-12T15:22:11.291758Z",
     "iopub.status.idle": "2024-10-12T15:22:11.299283Z",
     "shell.execute_reply": "2024-10-12T15:22:11.298814Z"
    }
   },
   "outputs": [],
   "source": [
    "# Identify local minima\n",
    "local_minima = nsitk.regional_maxima(-smoothed_image)"
   ]
  },
  {
   "cell_type": "markdown",
   "metadata": {},
   "source": [
    "## Step 4: Perform Watershed Segmentation\n",
    "\n",
    "Using the pre-processed image and identified seeds, perform the watershed segmentation."
   ]
  },
  {
   "cell_type": "code",
   "execution_count": 4,
   "metadata": {
    "execution": {
     "iopub.execute_input": "2024-10-12T15:22:11.300863Z",
     "iopub.status.busy": "2024-10-12T15:22:11.300688Z",
     "iopub.status.idle": "2024-10-12T15:22:11.504813Z",
     "shell.execute_reply": "2024-10-12T15:22:11.504266Z"
    }
   },
   "outputs": [],
   "source": [
    "import napari_segment_blobs_and_things_with_membranes as nsbatwm\n",
    "\n",
    "# Perform seeded watershed segmentation\n",
    "label_image = nsbatwm.seeded_watershed(smoothed_image, local_minima)"
   ]
  },
  {
   "cell_type": "markdown",
   "metadata": {},
   "source": [
    "## Step 5: Save and Display the Segmented Label Image\n",
    "\n",
    "Finally, let's save the segmented label image in RGB format and end with displaying it."
   ]
  },
  {
   "cell_type": "code",
   "execution_count": 5,
   "metadata": {
    "execution": {
     "iopub.execute_input": "2024-10-12T15:22:11.507038Z",
     "iopub.status.busy": "2024-10-12T15:22:11.506648Z",
     "iopub.status.idle": "2024-10-12T15:22:13.769310Z",
     "shell.execute_reply": "2024-10-12T15:22:13.768701Z"
    }
   },
   "outputs": [
    {
     "name": "stderr",
     "output_type": "stream",
     "text": [
      "/tmp/ipykernel_2180/2931438380.py:14: UserWarning: ../data/segmented_cells.png is a low contrast image\n",
      "  imsave(output_path, label_rgb_uint8)\n"
     ]
    },
    {
     "data": {
      "image/png": "[encoded data removed]",
      "text/plain": [
       "<Figure size 640x480 with 1 Axes>"
      ]
     },
     "metadata": {},
     "output_type": "display_data"
    }
   ],
   "source": [
    "import numpy as np\n",
    "import matplotlib.pyplot as plt\n",
    "from skimage.color import label2rgb\n",
    "from skimage.io import imsave\n",
    "\n",
    "# Convert label image to RGB\n",
    "label_rgb = label2rgb(label_image, bg_label=0)\n",
    "\n",
    "# Convert to uint8\n",
    "label_rgb_uint8 = (255 * label_rgb).astype(np.uint8)\n",
    "\n",
    "# Save the rgb label image\n",
    "output_path = '../data/segmented_cells.png'\n",
    "imsave(output_path, label_rgb_uint8)\n",
    "\n",
    "# Display the result\n",
    "plt.imshow(label_rgb_uint8)\n",
    "plt.axis('off')\n",
    "plt.show()"
   ]
  }
 ],
 "metadata": {
  "language_info": {
   "codemirror_mode": {
    "name": "ipython",
    "version": 3
   },
   "file_extension": ".py",
   "mimetype": "text/x-python",
   "name": "python",
   "nbconvert_exporter": "python",
   "pygments_lexer": "ipython3",
   "version": "3.12.7"
  }
 },
 "nbformat": 4,
 "nbformat_minor": 2
}
