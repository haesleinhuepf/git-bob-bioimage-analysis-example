{
 "cells": [
  {
   "cell_type": "markdown",
   "metadata": {},
   "source": [
    "# Removing Objects from Image Edges\n",
    "\n",
    "In this notebook, we will remove objects touching the edges of a label image using `pyclesperanto_prototype`.\n",
    "Let's start by loading the necessary libraries and the image."
   ]
  },
  {
   "cell_type": "code",
   "execution_count": 1,
   "metadata": {
    "execution": {
     "iopub.execute_input": "2024-10-05T19:22:45.790034Z",
     "iopub.status.busy": "2024-10-05T19:22:45.789844Z",
     "iopub.status.idle": "2024-10-05T19:22:45.964654Z",
     "shell.execute_reply": "2024-10-05T19:22:45.963874Z"
    }
   },
   "outputs": [
    {
     "ename": "ModuleNotFoundError",
     "evalue": "No module named 'pyclesperanto_prototype'",
     "output_type": "error",
     "traceback": [
      "\u001b[0;31m---------------------------------------------------------------------------\u001b[0m",
      "\u001b[0;31mModuleNotFoundError\u001b[0m                       Traceback (most recent call last)",
      "Cell \u001b[0;32mIn[1], line 1\u001b[0m\n\u001b[0;32m----> 1\u001b[0m \u001b[38;5;28;01mimport\u001b[39;00m \u001b[38;5;21;01mpyclesperanto_prototype\u001b[39;00m \u001b[38;5;28;01mas\u001b[39;00m \u001b[38;5;21;01mcle\u001b[39;00m\n\u001b[1;32m      2\u001b[0m \u001b[38;5;28;01mimport\u001b[39;00m \u001b[38;5;21;01mstackview\u001b[39;00m\n\u001b[1;32m      3\u001b[0m \u001b[38;5;28;01mfrom\u001b[39;00m \u001b[38;5;21;01mskimage\u001b[39;00m\u001b[38;5;21;01m.\u001b[39;00m\u001b[38;5;21;01mio\u001b[39;00m \u001b[38;5;28;01mimport\u001b[39;00m imread\n",
      "\u001b[0;31mModuleNotFoundError\u001b[0m: No module named 'pyclesperanto_prototype'"
     ]
    }
   ],
   "source": [
    "import pyclesperanto_prototype as cle\n",
    "import stackview\n",
    "from skimage.io import imread\n",
    "from skimage.io import imshow\n"
   ]
  },
  {
   "cell_type": "markdown",
   "metadata": {},
   "source": [
    "## Load the Label Image\n",
    "\n",
    "We will load the label image from the data folder."
   ]
  },
  {
   "cell_type": "code",
   "execution_count": null,
   "metadata": {},
   "outputs": [],
   "source": [
    "# Load the image\n",
    "label_image = imread('../data/blobs_labels.png')\n",
    "# Display the loaded image\n",
    "imshow(label_image)"
   ]
  },
  {
   "cell_type": "markdown",
   "metadata": {},
   "source": [
    "## Remove Objects on the Edges\n",
    "\n",
    "Now, we will remove the objects touching the edges of the image."
   ]
  },
  {
   "cell_type": "code",
   "execution_count": null,
   "metadata": {},
   "outputs": [],
   "source": [
    "# Remove objects on the edges\n",
    "cleaned_labels = cle.remove_labels_on_edges(label_image, exclude_x=True, exclude_y=True)\n",
    "# Display cleaned labels\n",
    "stackview.insight(cleaned_labels)"
   ]
  }
 ],
 "metadata": {
  "language_info": {
   "codemirror_mode": {
    "name": "ipython",
    "version": 3
   },
   "file_extension": ".py",
   "mimetype": "text/x-python",
   "name": "python",
   "nbconvert_exporter": "python",
   "pygments_lexer": "ipython3",
   "version": "3.12.6"
  }
 },
 "nbformat": 4,
 "nbformat_minor": 4
}
