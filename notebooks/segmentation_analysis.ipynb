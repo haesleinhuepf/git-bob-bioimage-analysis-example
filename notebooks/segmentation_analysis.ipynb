{
 "cells": [
  {
   "cell_type": "markdown",
   "metadata": {},
   "source": [
    "### Load Required Libraries\n",
    "First, let's import the necessary libraries for our analysis."
   ]
  },
  {
   "cell_type": "code",
   "execution_count": null,
   "metadata": {},
   "outputs": [],
   "source": [
    "from skimage import io, filters, measure, morphology, segmentation, color, feature\n",
    "import matplotlib.pyplot as plt\n",
    "from scipy import ndimage as ndi\n",
    "import numpy as np\n",
    "import pandas as pd"
   ]
  },
  {
   "cell_type": "markdown",
   "metadata": {},
   "source": [
    "### Load the Image\n",
    "Let's load the image from the data directory into our notebook."
   ]
  },
  {
   "cell_type": "code",
   "execution_count": null,
   "metadata": {},
   "outputs": [],
   "source": [
    "image = io.imread('../data/membranes.png')\n",
    "plt.imshow(image, cmap='gray')\n",
    "plt.title('Original Image')\n",
    "plt.axis('off')\n",
    "plt.show()"
   ]
  },
  {
   "cell_type": "markdown",
   "metadata": {},
   "source": [
    "### Grayscale Conversion\n",
    "Convert the image to grayscale if it is in RGB format."
   ]
  },
  {
   "cell_type": "code",
   "execution_count": null,
   "metadata": {},
   "outputs": [],
   "source": [
    "from skimage.color import rgb2gray\n",
    "if len(image.shape) == 3:\n",
    "    image_gray = rgb2gray(image)\n",
    "else:\n",
    "    image_gray = image\n",
    "plt.imshow(image_gray, cmap='gray')\n",
    "plt.title('Grayscale Image')\n",
    "plt.axis('off')\n",
    "plt.show()"
   ]
  },
  {
   "cell_type": "markdown",
   "metadata": {},
   "source": [
    "### Background Subtraction\n",
    "Apply a white top-hat filter to subtract the background."
   ]
  },
  {
   "cell_type": "code",
   "execution_count": null,
   "metadata": {},
   "outputs": [],
   "source": [
    "selem = morphology.disk(10)\n",
    "image_tophat = morphology.white_tophat(image_gray, selem)\n",
    "plt.imshow(image_tophat, cmap='gray')\n",
    "plt.title('Background Subtracted')\n",
    "plt.axis('off')\n",
    "plt.show()"
   ]
  },
  {
   "cell_type": "markdown",
   "metadata": {},
   "source": [
    "### Gradient Computation\n",
    "Compute the gradient of the transformed image."
   ]
  },
  {
   "cell_type": "code",
   "execution_count": null,
   "metadata": {},
   "outputs": [],
   "source": [
    "gradient = filters.sobel(image_tophat)\n",
    "plt.imshow(gradient, cmap='gray')\n",
    "plt.title('Image Gradient')\n",
    "plt.axis('off')\n",
    "plt.show()"
   ]
  },
  {
   "cell_type": "markdown",
   "metadata": {},
   "source": [
    "### Marker Generation for Watershed\n",
    "Enhance marker generation using distance transform and peak local max."
   ]
  },
  {
   "cell_type": "code",
   "execution_count": null,
   "metadata": {},
   "outputs": [],
   "source": [
    "distance = ndi.distance_transform_edt(image_tophat)\n",
    "local_maxi = feature.peak_local_max(distance, labels=image_tophat, min_distance=5)\n",
    "markers = ndi.label(local_maxi, structure=np.ones((3, 3)))[0]"
   ]
  },
  {
   "cell_type": "markdown",
   "metadata": {},
   "source": [
    "### Apply Watershed Segmentation\n",
    "Perform the watershed algorithm to segment cells."
   ]
  },
  {
   "cell_type": "code",
   "execution_count": null,
   "metadata": {},
   "outputs": [],
   "source": [
    "labeled_image = segmentation.watershed(gradient, markers, mask=image_tophat)\n",
    "plt.imshow(color.label2rgb(labeled_image, image=image, bg_label=0), cmap='nipy_spectral')\n",
    "plt.title('Segmented Cells')\n",
    "plt.axis('off')\n",
    "plt.show()"
   ]
  },
  {
   "cell_type": "markdown",
   "metadata": {},
   "source": [
    "### Clean Up Segmented Image\n",
    "Remove small objects from the labeled image."
   ]
  },
  {
   "cell_type": "code",
   "execution_count": null,
   "metadata": {},
   "outputs": [],
   "source": [
    "cleaned_image = morphology.remove_small_objects(labeled_image, min_size=150)\n",
    "plt.imshow(color.label2rgb(cleaned_image, image=image, bg_label=0), cmap='nipy_spectral')\n",
    "plt.title('Cleaned Segmented Cells')\n",
    "plt.axis('off')\n",
    "plt.show()"
   ]
  },
  {
   "cell_type": "markdown",
   "metadata": {},
   "source": [
    "### Measure Properties of Segmented Regions\n",
    "Calculate and display the area of each segmented cell."
   ]
  },
  {
   "cell_type": "code",
   "execution_count": null,
   "metadata": {},
   "outputs": [],
   "source": [
    "properties = measure.regionprops_table(cleaned_image, properties=['label', 'area'])\n",
    "df = pd.DataFrame(properties)\n",
    "print(df)"
   ]
  }
 ],
 "metadata": {},
 "nbformat": 4,
 "nbformat_minor": 5
}
