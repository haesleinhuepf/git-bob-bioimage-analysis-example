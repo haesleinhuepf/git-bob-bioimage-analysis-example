{
 "cells": [
  {
   "cell_type": "markdown",
   "id": "09dccffc",
   "metadata": {},
   "source": [
    "# Gaussian Blur Explanation\n",
    "\n",
    "This notebook demonstrates the application of Gaussian blur on a simple synthetic image. A black image with a single bright pixel in the center is used, and Gaussian blur is applied with different sigma values."
   ]
  },
  {
   "cell_type": "code",
   "execution_count": 1,
   "id": "83f0ba94",
   "metadata": {
    "execution": {
     "iopub.execute_input": "2024-10-12T16:00:01.866370Z",
     "iopub.status.busy": "2024-10-12T16:00:01.866193Z",
     "iopub.status.idle": "2024-10-12T16:00:04.294973Z",
     "shell.execute_reply": "2024-10-12T16:00:04.294361Z"
    }
   },
   "outputs": [
    {
     "name": "stderr",
     "output_type": "stream",
     "text": [
      "/opt/hostedtoolcache/Python/3.12.7/x64/lib/python3.12/site-packages/napari_tools_menu/__init__.py:10: UserWarning: Importing QT failed; now introducing dummy definitions of QMenu class and register_function decorator.\n",
      "  warnings.warn(\"Importing QT failed; now introducing dummy definitions of QMenu class and register_function decorator.\")\n",
      "/opt/hostedtoolcache/Python/3.12.7/x64/lib/python3.12/site-packages/napari_tools_menu/__init__.py:221: UserWarning: Error in monkey patching napari. Please let @haesleinleinhuepf know at\n",
      "https://github.com/haesleinhuepf/napari-tools-menu/issues\n",
      "  warnings.warn(\"Error in monkey patching napari. Please let @haesleinleinhuepf know at\\nhttps://github.com/haesleinhuepf/napari-tools-menu/issues\")\n"
     ]
    }
   ],
   "source": [
    "# Import necessary libraries\n",
    "import numpy as np\n",
    "import matplotlib.pyplot as plt\n",
    "from skimage.io import imsave\n",
    "import napari_segment_blobs_and_things_with_membranes as nsbatwm\n",
    "\n",
    "# Define the image size and create a black image with one bright pixel in the center\n",
    "image_size = 100\n",
    "image = np.zeros((image_size, image_size), dtype=np.uint8)\n",
    "image[image_size // 2, image_size // 2] = 255\n"
   ]
  },
  {
   "cell_type": "markdown",
   "id": "2fc73f5e",
   "metadata": {},
   "source": [
    "## Original Image\n",
    "\n",
    "First, let's visualize the original image. It's a black image with a single white pixel in the center."
   ]
  },
  {
   "cell_type": "code",
   "execution_count": 2,
   "id": "7ab4b6dc",
   "metadata": {
    "execution": {
     "iopub.execute_input": "2024-10-12T16:00:04.296924Z",
     "iopub.status.busy": "2024-10-12T16:00:04.296590Z",
     "iopub.status.idle": "2024-10-12T16:00:04.410740Z",
     "shell.execute_reply": "2024-10-12T16:00:04.410221Z"
    }
   },
   "outputs": [
    {
     "name": "stderr",
     "output_type": "stream",
     "text": [
      "/tmp/ipykernel_2155/13744390.py:6: UserWarning: ../data/original_image.png is a low contrast image\n",
      "  imsave('../data/original_image.png', image)\n"
     ]
    },
    {
     "data": {
      "image/png": "[encoded data removed]",
      "text/plain": [
       "<Figure size 640x480 with 1 Axes>"
      ]
     },
     "metadata": {},
     "output_type": "display_data"
    }
   ],
   "source": [
    "# Visualize the original image\n",
    "plt.imshow(image, cmap='gray')\n",
    "plt.title('Original Image')\n",
    "plt.axis('off')\n",
    "# Save original image\n",
    "imsave('../data/original_image.png', image)\n"
   ]
  },
  {
   "cell_type": "markdown",
   "id": "deb22d4a",
   "metadata": {},
   "source": [
    "## Applying Gaussian Blur\n",
    "\n",
    "Now, let's apply Gaussian blur with sigma values ranging from 1 to 5 and observe how the image changes."
   ]
  },
  {
   "cell_type": "code",
   "execution_count": 3,
   "id": "6aa42281",
   "metadata": {
    "execution": {
     "iopub.execute_input": "2024-10-12T16:00:04.412777Z",
     "iopub.status.busy": "2024-10-12T16:00:04.412347Z",
     "iopub.status.idle": "2024-10-12T16:00:05.723373Z",
     "shell.execute_reply": "2024-10-12T16:00:05.722748Z"
    }
   },
   "outputs": [
    {
     "name": "stderr",
     "output_type": "stream",
     "text": [
      "/tmp/ipykernel_2155/2381331924.py:10: UserWarning: ../data/gaussian_blur_sigma_1.png is a low contrast image\n",
      "  imsave(f'../data/gaussian_blur_sigma_{sigma}.png', blurred_image.astype(np.uint8))\n",
      "/tmp/ipykernel_2155/2381331924.py:10: UserWarning: ../data/gaussian_blur_sigma_2.png is a low contrast image\n",
      "  imsave(f'../data/gaussian_blur_sigma_{sigma}.png', blurred_image.astype(np.uint8))\n",
      "/tmp/ipykernel_2155/2381331924.py:10: UserWarning: ../data/gaussian_blur_sigma_3.png is a low contrast image\n",
      "  imsave(f'../data/gaussian_blur_sigma_{sigma}.png', blurred_image.astype(np.uint8))\n",
      "/tmp/ipykernel_2155/2381331924.py:10: UserWarning: ../data/gaussian_blur_sigma_4.png is a low contrast image\n",
      "  imsave(f'../data/gaussian_blur_sigma_{sigma}.png', blurred_image.astype(np.uint8))\n",
      "/tmp/ipykernel_2155/2381331924.py:10: UserWarning: ../data/gaussian_blur_sigma_5.png is a low contrast image\n",
      "  imsave(f'../data/gaussian_blur_sigma_{sigma}.png', blurred_image.astype(np.uint8))\n"
     ]
    },
    {
     "data": {
      "image/png": "[encoded data removed]",
      "text/plain": [
       "<Figure size 640x480 with 1 Axes>"
      ]
     },
     "metadata": {},
     "output_type": "display_data"
    }
   ],
   "source": [
    "# Apply Gaussian blur with various sigma values\n",
    "sigma_values = range(1, 6)\n",
    "\n",
    "for sigma in sigma_values:\n",
    "    blurred_image = nsbatwm.gaussian_blur(image, sigma)\n",
    "    plt.imshow(blurred_image, cmap='gray')\n",
    "    plt.title(f'Gaussian Blur with sigma={sigma}')\n",
    "    plt.axis('off')\n",
    "    # Save each blurred image\n",
    "    imsave(f'../data/gaussian_blur_sigma_{sigma}.png', blurred_image.astype(np.uint8))\n"
   ]
  }
 ],
 "metadata": {
  "language_info": {
   "codemirror_mode": {
    "name": "ipython",
    "version": 3
   },
   "file_extension": ".py",
   "mimetype": "text/x-python",
   "name": "python",
   "nbconvert_exporter": "python",
   "pygments_lexer": "ipython3",
   "version": "3.12.7"
  }
 },
 "nbformat": 4,
 "nbformat_minor": 5
}
