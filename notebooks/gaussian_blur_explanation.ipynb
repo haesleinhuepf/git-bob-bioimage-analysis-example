{
 "cells": [
  {
   "cell_type": "markdown",
   "id": "4b986be3",
   "metadata": {},
   "source": [
    "# Gaussian Blur Explanation\n",
    "\n",
    "In this notebook, we will explore the Gaussian blur filter using a simple example. We will create a 100x100 black image with a single pixel set to 1 in the center. Then, we will apply Gaussian blur with various sigma values to observe its effect on the image."
   ]
  },
  {
   "cell_type": "markdown",
   "id": "1eda4a38",
   "metadata": {},
   "source": [
    "## Creating the Image\n",
    "\n",
    "Let's start by creating a 100x100 black image with a single pixel in the center set to 1."
   ]
  },
  {
   "cell_type": "code",
   "execution_count": 1,
   "id": "1e763bdf",
   "metadata": {
    "execution": {
     "iopub.execute_input": "2024-10-12T15:48:43.599466Z",
     "iopub.status.busy": "2024-10-12T15:48:43.599293Z",
     "iopub.status.idle": "2024-10-12T15:48:45.435772Z",
     "shell.execute_reply": "2024-10-12T15:48:45.435186Z"
    }
   },
   "outputs": [],
   "source": [
    "import numpy as np\n",
    "import matplotlib.pyplot as plt\n",
    "\n",
    "# Create a 100x100 black image\n",
    "image = np.zeros((100, 100), dtype=np.float32)\n",
    "\n",
    "# Set the center pixel to 1\n",
    "image[50, 50] = 1\n"
   ]
  },
  {
   "cell_type": "markdown",
   "id": "22528beb",
   "metadata": {},
   "source": [
    "## Applying Gaussian Blur\n",
    "\n",
    "We will apply Gaussian blur using different sigma values ranging from 1 to 10. The results will be stored as images in the `data` folder."
   ]
  },
  {
   "cell_type": "code",
   "execution_count": 2,
   "id": "25d8b49a",
   "metadata": {
    "execution": {
     "iopub.execute_input": "2024-10-12T15:48:45.438004Z",
     "iopub.status.busy": "2024-10-12T15:48:45.437585Z",
     "iopub.status.idle": "2024-10-12T15:48:47.846069Z",
     "shell.execute_reply": "2024-10-12T15:48:47.845445Z"
    }
   },
   "outputs": [
    {
     "name": "stderr",
     "output_type": "stream",
     "text": [
      "/opt/hostedtoolcache/Python/3.12.7/x64/lib/python3.12/site-packages/napari_tools_menu/__init__.py:10: UserWarning: Importing QT failed; now introducing dummy definitions of QMenu class and register_function decorator.\n",
      "  warnings.warn(\"Importing QT failed; now introducing dummy definitions of QMenu class and register_function decorator.\")\n",
      "/opt/hostedtoolcache/Python/3.12.7/x64/lib/python3.12/site-packages/napari_tools_menu/__init__.py:221: UserWarning: Error in monkey patching napari. Please let @haesleinleinhuepf know at\n",
      "https://github.com/haesleinhuepf/napari-tools-menu/issues\n",
      "  warnings.warn(\"Error in monkey patching napari. Please let @haesleinleinhuepf know at\\nhttps://github.com/haesleinhuepf/napari-tools-menu/issues\")\n",
      "/opt/hostedtoolcache/Python/3.12.7/x64/lib/python3.12/site-packages/napari_skimage_regionprops/_table.py:7: UserWarning: No Qt bindings could be found\n",
      "  warnings.warn(str(e))\n"
     ]
    },
    {
     "name": "stderr",
     "output_type": "stream",
     "text": [
      "/tmp/ipykernel_2304/3141108493.py:15: UserWarning: ../data/gaussian_blur_sigma_1.png is a low contrast image\n",
      "  imsave(f'../data/gaussian_blur_sigma_{sigma}.png', blurred_image_uint8)\n",
      "/tmp/ipykernel_2304/3141108493.py:15: UserWarning: ../data/gaussian_blur_sigma_2.png is a low contrast image\n",
      "  imsave(f'../data/gaussian_blur_sigma_{sigma}.png', blurred_image_uint8)\n",
      "/tmp/ipykernel_2304/3141108493.py:15: UserWarning: ../data/gaussian_blur_sigma_3.png is a low contrast image\n",
      "  imsave(f'../data/gaussian_blur_sigma_{sigma}.png', blurred_image_uint8)\n",
      "/tmp/ipykernel_2304/3141108493.py:15: UserWarning: ../data/gaussian_blur_sigma_4.png is a low contrast image\n",
      "  imsave(f'../data/gaussian_blur_sigma_{sigma}.png', blurred_image_uint8)\n",
      "/tmp/ipykernel_2304/3141108493.py:15: UserWarning: ../data/gaussian_blur_sigma_5.png is a low contrast image\n",
      "  imsave(f'../data/gaussian_blur_sigma_{sigma}.png', blurred_image_uint8)\n",
      "/tmp/ipykernel_2304/3141108493.py:15: UserWarning: ../data/gaussian_blur_sigma_6.png is a low contrast image\n",
      "  imsave(f'../data/gaussian_blur_sigma_{sigma}.png', blurred_image_uint8)\n",
      "/tmp/ipykernel_2304/3141108493.py:15: UserWarning: ../data/gaussian_blur_sigma_7.png is a low contrast image\n",
      "  imsave(f'../data/gaussian_blur_sigma_{sigma}.png', blurred_image_uint8)\n",
      "/tmp/ipykernel_2304/3141108493.py:15: UserWarning: ../data/gaussian_blur_sigma_8.png is a low contrast image\n",
      "  imsave(f'../data/gaussian_blur_sigma_{sigma}.png', blurred_image_uint8)\n",
      "/tmp/ipykernel_2304/3141108493.py:15: UserWarning: ../data/gaussian_blur_sigma_9.png is a low contrast image\n",
      "  imsave(f'../data/gaussian_blur_sigma_{sigma}.png', blurred_image_uint8)\n",
      "/tmp/ipykernel_2304/3141108493.py:15: UserWarning: ../data/gaussian_blur_sigma_10.png is a low contrast image\n",
      "  imsave(f'../data/gaussian_blur_sigma_{sigma}.png', blurred_image_uint8)\n"
     ]
    }
   ],
   "source": [
    "import napari_simpleitk_image_processing as nsitk\n",
    "from skimage.io import imsave\n",
    "\n",
    "# Define the range of sigma values\n",
    "sigma_values = range(1, 11)\n",
    "\n",
    "for sigma in sigma_values:\n",
    "    # Apply Gaussian blur\n",
    "    blurred_image = nsitk.gaussian_blur(image, variance_x=sigma, variance_y=sigma)\n",
    "    \n",
    "    # Convert to uint8 for saving\n",
    "    blurred_image_uint8 = (blurred_image * 255).astype(np.uint8)\n",
    "    \n",
    "    # Save the image\n",
    "    imsave(f'../data/gaussian_blur_sigma_{sigma}.png', blurred_image_uint8)\n"
   ]
  }
 ],
 "metadata": {
  "language_info": {
   "codemirror_mode": {
    "name": "ipython",
    "version": 3
   },
   "file_extension": ".py",
   "mimetype": "text/x-python",
   "name": "python",
   "nbconvert_exporter": "python",
   "pygments_lexer": "ipython3",
   "version": "3.12.7"
  }
 },
 "nbformat": 4,
 "nbformat_minor": 5
}
