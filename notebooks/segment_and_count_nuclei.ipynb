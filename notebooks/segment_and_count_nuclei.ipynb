{
 "cells": [
  {
   "cell_type": "markdown",
   "metadata": {},
   "source": [
    "# Segmentation and Counting of Nuclei in an Image\n",
    "\n",
    "This notebook demonstrates how to perform image processing using Python to segment and count nuclei in a microscopic image. We will use libraries like `skimage` and `matplotlib` for this purpose."
   ]
  },
  {
   "cell_type": "markdown",
   "metadata": {},
   "source": [
    "## Step 1: Load the Image\n",
    "\n",
    "First, we will load the image using `skimage.io.imread`. The image is assumed to be stored in the `data` folder."
   ]
  },
  {
   "cell_type": "code",
   "execution_count": null,
   "metadata": {},
   "outputs": [],
   "source": [
    "import numpy as np\n",
    "import matplotlib.pyplot as plt\n",
    "from skimage import io\n",
    "\n",
    "image_path = \"../data/hela-cells-8bit.jpg\"\n",
    "image = io.imread(image_path)\n",
    "plt.imshow(image)\n",
    "plt.title(\"Original Image\")\n",
    "plt.show()"
   ]
  },
  {
   "cell_type": "markdown",
   "metadata": {},
   "source": [
    "## Step 2: Extract the Blue Channel\n",
    "\n",
    "The blue channel often corresponds to the DAPI stain used for nuclei. We will extract this channel for further processing."
   ]
  },
  {
   "cell_type": "code",
   "execution_count": null,
   "metadata": {},
   "outputs": [],
   "source": [
    "gray_image = image[..., 2]\n",
    "plt.imshow(gray_image, cmap='gray')\n",
    "plt.title(\"Blue Channel Image\")\n",
    "plt.show()"
   ]
  },
  {
   "cell_type": "markdown",
   "metadata": {},
   "source": [
    "## Step 3: Apply Gaussian Blur\n",
    "\n",
    "A Gaussian blur is applied to reduce noise in the image, which helps improve the accuracy of subsequent segmentation steps."
   ]
  },
  {
   "cell_type": "code",
   "execution_count": null,
   "metadata": {},
   "outputs": [],
   "source": [
    "from skimage import filters\n",
    "\n",
    "blurred_image = filters.gaussian(gray_image, sigma=1)\n",
    "plt.imshow(blurred_image, cmap='gray')\n",
    "plt.title(\"Blurred Image\")\n",
    "plt.show()"
   ]
  },
  {
   "cell_type": "markdown",
   "metadata": {},
   "source": [
    "## Step 4: Apply Otsu's Thresholding\n",
    "\n",
    "Otsu's thresholding is used to convert the grayscale image into a binary image, separating nuclei from the background."
   ]
  },
  {
   "cell_type": "code",
   "execution_count": null,
   "metadata": {},
   "outputs": [],
   "source": [
    "thresh = filters.threshold_otsu(blurred_image)\n",
    "binary_image = blurred_image > thresh\n",
    "plt.imshow(binary_image, cmap='gray')\n",
    "plt.title(\"Binary Image\")\n",
    "plt.show()"
   ]
  },
  {
   "cell_type": "markdown",
   "metadata": {},
   "source": [
    "## Step 5: Remove Small Objects\n",
    "\n",
    "Small artifacts can be removed using morphological operations to improve segmentation quality."
   ]
  },
  {
   "cell_type": "code",
   "execution_count": null,
   "metadata": {},
   "outputs": [],
   "source": [
    "from skimage import morphology\n",
    "\n",
    "cleaned_image = morphology.remove_small_objects(binary_image, min_size=50)\n",
    "plt.imshow(cleaned_image, cmap='gray')\n",
    "plt.title(\"Cleaned Image\")\n",
    "plt.show()"
   ]
  },
  {
   "cell_type": "markdown",
   "metadata": {},
   "source": [
    "## Step 6: Label Nuclei and Count Them\n",
    "\n",
    "Finally, we label the connected components in the binary image, each representing a nucleus, and count the number of nuclei."
   ]
  },
  {
   "cell_type": "code",
   "execution_count": null,
   "metadata": {},
   "outputs": [],
   "source": [
    "from skimage import measure, color\n",
    "\n",
    "labeled_image = measure.label(cleaned_image)\n",
    "nuclei_count = labeled_image.max()\n",
    "print(f'Number of nuclei: {nuclei_count}')\n",
    "\n",
    "plt.imshow(color.label2rgb(labeled_image, image=image, bg_label=0))\n",
    "plt.title(\"Detected Nuclei\")\n",
    "plt.show()"
   ]
  }
 ],
 "metadata": {},
 "nbformat": 4,
 "nbformat_minor": 2
}
