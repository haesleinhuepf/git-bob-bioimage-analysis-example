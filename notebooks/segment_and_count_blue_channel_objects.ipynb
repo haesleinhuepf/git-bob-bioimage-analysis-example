{
 "cells": [
  {
   "cell_type": "markdown",
   "metadata": {},
   "source": [
    "# Segmenting and Counting Objects in the Blue Channel\n",
    "In this notebook, we'll process a fluorescent microscopy image to segment and count the objects in its blue channel."
   ]
  },
  {
   "cell_type": "markdown",
   "metadata": {},
   "source": [
    "## Step 1: Load the required libraries\n",
    "We'll use libraries such as `matplotlib` for plotting, and `skimage` for image processing."
   ]
  },
  {
   "cell_type": "code",
   "execution_count": null,
   "metadata": {},
   "outputs": [],
   "source": [
    "import matplotlib.pyplot as plt\n",
    "from skimage import io, filters, measure, morphology\n",
    "from skimage.filters import threshold_otsu"
   ]
  },
  {
   "cell_type": "markdown",
   "metadata": {},
   "source": [
    "## Step 2: Load the image\n",
    "Let's load the RGB image using the `skimage.io.imread()` function."
   ]
  },
  {
   "cell_type": "code",
   "execution_count": null,
   "metadata": {},
   "outputs": [],
   "source": [
    "image_url = 'https://github.com/haesleinhuepf/git-bob-bioimage-analysis-example/blob/main/data/hela-cells-8bit.png?raw=true'\n",
    "image = io.imread(image_url)\n",
    "\n",
    "# Display the image\n",
    "image"
   ]
  },
  {
   "cell_type": "markdown",
   "metadata": {},
   "source": [
    "## Step 3: Extract the blue channel\n",
    "The objects we are interested in are prominent in the blue channel. Let's isolate it."
   ]
  },
  {
   "cell_type": "code",
   "execution_count": null,
   "metadata": {},
   "outputs": [],
   "source": [
    "blue_channel = image[:, :, 2]\n",
    "\n",
    "# Show the shape of the blue channel\n",
    "blue_channel.shape"
   ]
  },
  {
   "cell_type": "markdown",
   "metadata": {},
   "source": [
    "## Step 4: Visualize the blue channel\n",
    "Let's plot the blue channel to inspect its contents."
   ]
  },
  {
   "cell_type": "code",
   "execution_count": null,
   "metadata": {},
   "outputs": [],
   "source": [
    "plt.imshow(blue_channel, cmap='gray')\n",
    "plt.title('Blue Channel')\n",
    "plt.axis('off')\n",
    "plt.show()"
   ]
  },
  {
   "cell_type": "markdown",
   "metadata": {},
   "source": [
    "## Step 5: Apply a threshold\n",
    "We will use Otsu's method to find a threshold that separates the objects from the background."
   ]
  },
  {
   "cell_type": "code",
   "execution_count": null,
   "metadata": {},
   "outputs": [],
   "source": [
    "threshold_value = threshold_otsu(blue_channel)\n",
    "threshold_value"
   ]
  },
  {
   "cell_type": "markdown",
   "metadata": {},
   "source": [
    "## Step 6: Create a binary image\n",
    "Use the threshold to convert the blue channel into a binary image."
   ]
  },
  {
   "cell_type": "code",
   "execution_count": null,
   "metadata": {},
   "outputs": [],
   "source": [
    "binary_image = blue_channel > threshold_value\n",
    "\n",
    "plt.imshow(binary_image, cmap='gray')\n",
    "plt.title('Binary Image')\n",
    "plt.axis('off')\n",
    "plt.show()"
   ]
  },
  {
   "cell_type": "markdown",
   "metadata": {},
   "source": [
    "## Step 7: Clean the image\n",
    "We will remove small objects and fill holes for better segmentation results."
   ]
  },
  {
   "cell_type": "code",
   "execution_count": null,
   "metadata": {},
   "outputs": [],
   "source": [
    "cleaned_image = morphology.remove_small_objects(binary_image, min_size=30)\n",
    "cleaned_image = morphology.remove_small_holes(cleaned_image, area_threshold=30)\n",
    "\n",
    "plt.imshow(cleaned_image, cmap='gray')\n",
    "plt.title('Cleaned Image')\n",
    "plt.axis('off')\n",
    "plt.show()"
   ]
  },
  {
   "cell_type": "markdown",
   "metadata": {},
   "source": [
    "## Step 8: Label and count objects\n",
    "Finally, we'll label these components and count how many are there."
   ]
  },
  {
   "cell_type": "code",
   "execution_count": null,
   "metadata": {},
   "outputs": [],
   "source": [
    "label_image = measure.label(cleaned_image)\n",
    "num_objects = label_image.max()\n",
    "num_objects"
   ]
  },
  {
   "cell_type": "markdown",
   "metadata": {},
   "source": [
    "## Step 9: Visualize the segmented objects\n",
    "Let's display the segmented objects with color labels."
   ]
  },
  {
   "cell_type": "code",
   "execution_count": null,
   "metadata": {},
   "outputs": [],
   "source": [
    "plt.imshow(label_image, cmap='nipy_spectral')\n",
    "plt.title(f'Segmented Objects - {num_objects} detected')\n",
    "plt.axis('off')\n",
    "plt.show()"
   ]
  }
 ],
 "metadata": {},
 "nbformat": 4,
 "nbformat_minor": 5
}
