{
 "cells": [
  {
   "cell_type": "markdown",
   "id": "dbbbc59d",
   "metadata": {},
   "source": [
    "# Nuclei Segmentation\n",
    "\n",
    "In this notebook, we will segment and label the bright nuclei in a fluorescence microscopy image using the Voronoi-Otsu-Labeling algorithm. The labeled image will then be converted to RGB and saved as a `.png` file."
   ]
  },
  {
   "cell_type": "markdown",
   "id": "62acf77c",
   "metadata": {},
   "source": [
    "## Step 1: Load Required Libraries"
   ]
  },
  {
   "cell_type": "code",
   "execution_count": 1,
   "id": "42ceb137",
   "metadata": {
    "execution": {
     "iopub.execute_input": "2024-10-12T18:47:26.021104Z",
     "iopub.status.busy": "2024-10-12T18:47:26.020926Z",
     "iopub.status.idle": "2024-10-12T18:47:27.144386Z",
     "shell.execute_reply": "2024-10-12T18:47:27.143715Z"
    }
   },
   "outputs": [
    {
     "name": "stderr",
     "output_type": "stream",
     "text": [
      "/opt/hostedtoolcache/Python/3.12.7/x64/lib/python3.12/site-packages/napari_tools_menu/__init__.py:10: UserWarning: Importing QT failed; now introducing dummy definitions of QMenu class and register_function decorator.\n",
      "  warnings.warn(\"Importing QT failed; now introducing dummy definitions of QMenu class and register_function decorator.\")\n",
      "/opt/hostedtoolcache/Python/3.12.7/x64/lib/python3.12/site-packages/napari_tools_menu/__init__.py:221: UserWarning: Error in monkey patching napari. Please let @haesleinleinhuepf know at\n",
      "https://github.com/haesleinhuepf/napari-tools-menu/issues\n",
      "  warnings.warn(\"Error in monkey patching napari. Please let @haesleinleinhuepf know at\\nhttps://github.com/haesleinhuepf/napari-tools-menu/issues\")\n"
     ]
    }
   ],
   "source": [
    "from skimage.io import imread, imsave\n",
    "from skimage import color\n",
    "import napari_segment_blobs_and_things_with_membranes as nsbatwm\n",
    "import numpy as np"
   ]
  },
  {
   "cell_type": "markdown",
   "id": "fe7b3116",
   "metadata": {},
   "source": [
    "## Step 2: Load the Image\n",
    "\n",
    "First, we need to load the image `human_mitosis.png` from the `data` folder."
   ]
  },
  {
   "cell_type": "code",
   "execution_count": 2,
   "id": "d490498b",
   "metadata": {
    "execution": {
     "iopub.execute_input": "2024-10-12T18:47:27.146408Z",
     "iopub.status.busy": "2024-10-12T18:47:27.145980Z",
     "iopub.status.idle": "2024-10-12T18:47:27.156350Z",
     "shell.execute_reply": "2024-10-12T18:47:27.155925Z"
    }
   },
   "outputs": [],
   "source": [
    "image_path = '../data/human_mitosis.png'\n",
    "image = imread(image_path)"
   ]
  },
  {
   "cell_type": "markdown",
   "id": "af3d0fcd",
   "metadata": {},
   "source": [
    "## Step 3: Segment the Nuclei\n",
    "\n",
    "We will use the Voronoi-Otsu-Labeling algorithm to segment and label the nuclei."
   ]
  },
  {
   "cell_type": "code",
   "execution_count": 3,
   "id": "e36835ec",
   "metadata": {
    "execution": {
     "iopub.execute_input": "2024-10-12T18:47:27.158112Z",
     "iopub.status.busy": "2024-10-12T18:47:27.157763Z",
     "iopub.status.idle": "2024-10-12T18:47:28.453637Z",
     "shell.execute_reply": "2024-10-12T18:47:28.453043Z"
    }
   },
   "outputs": [],
   "source": [
    "labeled_image = nsbatwm.voronoi_otsu_labeling(image, spot_sigma=3.5, outline_sigma=1)"
   ]
  },
  {
   "cell_type": "markdown",
   "id": "34eeab5c",
   "metadata": {},
   "source": [
    "## Step 4: Convert Label Image to RGB\n",
    "\n",
    "The labeled image will be converted to an RGB image for better visualization."
   ]
  },
  {
   "cell_type": "code",
   "execution_count": 4,
   "id": "e7e4f135",
   "metadata": {
    "execution": {
     "iopub.execute_input": "2024-10-12T18:47:28.455951Z",
     "iopub.status.busy": "2024-10-12T18:47:28.455388Z",
     "iopub.status.idle": "2024-10-12T18:47:28.474651Z",
     "shell.execute_reply": "2024-10-12T18:47:28.474137Z"
    }
   },
   "outputs": [],
   "source": [
    "rgb_image = color.label2rgb(labeled_image, bg_label=0)"
   ]
  },
  {
   "cell_type": "markdown",
   "id": "3de3e817",
   "metadata": {},
   "source": [
    "## Step 5: Convert to uint8 and Save the RGB Image\n",
    "\n",
    "Finally, we will convert the RGB image to `np.uint8` format and save it as `human_mitosis_segmented.png`."
   ]
  },
  {
   "cell_type": "code",
   "execution_count": 5,
   "id": "bc7e6698",
   "metadata": {
    "execution": {
     "iopub.execute_input": "2024-10-12T18:47:28.476781Z",
     "iopub.status.busy": "2024-10-12T18:47:28.476456Z",
     "iopub.status.idle": "2024-10-12T18:47:28.513607Z",
     "shell.execute_reply": "2024-10-12T18:47:28.513031Z"
    }
   },
   "outputs": [],
   "source": [
    "rgb_image_uint8 = (rgb_image * 255).astype(np.uint8)\n",
    "output_path = '../data/human_mitosis_segmented.png'\n",
    "imsave(output_path, rgb_image_uint8)"
   ]
  }
 ],
 "metadata": {
  "language_info": {
   "codemirror_mode": {
    "name": "ipython",
    "version": 3
   },
   "file_extension": ".py",
   "mimetype": "text/x-python",
   "name": "python",
   "nbconvert_exporter": "python",
   "pygments_lexer": "ipython3",
   "version": "3.12.7"
  }
 },
 "nbformat": 4,
 "nbformat_minor": 5
}
