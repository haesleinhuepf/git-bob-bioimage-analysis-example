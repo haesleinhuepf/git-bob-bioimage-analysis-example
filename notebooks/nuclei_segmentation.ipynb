{
 "cells": [
  {
   "cell_type": "markdown",
   "metadata": {},
   "source": [
    "# Nuclei Segmentation using Voronoi-Otsu-Labeling\n",
    "\n",
    "In this notebook, we will perform segmentation and labeling of nuclei from the image `human_mitosis.png` using the Voronoi-Otsu-Labeling algorithm. The final label image will be saved as an RGB `.png` file."
   ]
  },
  {
   "cell_type": "markdown",
   "metadata": {},
   "source": [
    "## Step 1: Import Necessary Libraries"
   ]
  },
  {
   "cell_type": "code",
   "execution_count": 1,
   "metadata": {
    "execution": {
     "iopub.execute_input": "2024-10-12T17:59:49.101608Z",
     "iopub.status.busy": "2024-10-12T17:59:49.101419Z",
     "iopub.status.idle": "2024-10-12T17:59:52.205467Z",
     "shell.execute_reply": "2024-10-12T17:59:52.204894Z"
    }
   },
   "outputs": [
    {
     "name": "stderr",
     "output_type": "stream",
     "text": [
      "/opt/hostedtoolcache/Python/3.12.7/x64/lib/python3.12/site-packages/napari_tools_menu/__init__.py:10: UserWarning: Importing QT failed; now introducing dummy definitions of QMenu class and register_function decorator.\n",
      "  warnings.warn(\"Importing QT failed; now introducing dummy definitions of QMenu class and register_function decorator.\")\n",
      "/opt/hostedtoolcache/Python/3.12.7/x64/lib/python3.12/site-packages/napari_tools_menu/__init__.py:221: UserWarning: Error in monkey patching napari. Please let @haesleinleinhuepf know at\n",
      "https://github.com/haesleinhuepf/napari-tools-menu/issues\n",
      "  warnings.warn(\"Error in monkey patching napari. Please let @haesleinleinhuepf know at\\nhttps://github.com/haesleinhuepf/napari-tools-menu/issues\")\n"
     ]
    }
   ],
   "source": [
    "import numpy as np\n",
    "from skimage.io import imread, imsave\n",
    "import napari_segment_blobs_and_things_with_membranes as nsbatwm\n",
    "import matplotlib.pyplot as plt"
   ]
  },
  {
   "cell_type": "markdown",
   "metadata": {},
   "source": [
    "## Step 2: Load the Image\n",
    "\n",
    "We will load the image file `human_mitosis.png` which should be placed in the `data` directory."
   ]
  },
  {
   "cell_type": "code",
   "execution_count": 2,
   "metadata": {
    "execution": {
     "iopub.execute_input": "2024-10-12T17:59:52.207785Z",
     "iopub.status.busy": "2024-10-12T17:59:52.207429Z",
     "iopub.status.idle": "2024-10-12T17:59:52.219001Z",
     "shell.execute_reply": "2024-10-12T17:59:52.218467Z"
    }
   },
   "outputs": [],
   "source": [
    "image_path = '../data/human_mitosis.png'\n",
    "image = imread(image_path)"
   ]
  },
  {
   "cell_type": "markdown",
   "metadata": {},
   "source": [
    "## Step 3: Apply Voronoi-Otsu-Labeling Algorithm\n",
    "\n",
    "We will use the Voronoi-Otsu-Labeling algorithm to segment and label the nuclei in the image."
   ]
  },
  {
   "cell_type": "code",
   "execution_count": 3,
   "metadata": {
    "execution": {
     "iopub.execute_input": "2024-10-12T17:59:52.221339Z",
     "iopub.status.busy": "2024-10-12T17:59:52.220969Z",
     "iopub.status.idle": "2024-10-12T17:59:53.602779Z",
     "shell.execute_reply": "2024-10-12T17:59:53.602220Z"
    }
   },
   "outputs": [],
   "source": [
    "label_image = nsbatwm.voronoi_otsu_labeling(image, spot_sigma=3.5, outline_sigma=1)"
   ]
  },
  {
   "cell_type": "markdown",
   "metadata": {},
   "source": [
    "## Step 4: Convert and Save Label Image\n",
    "\n",
    "Convert the integer labels to an RGB image and save it as a .png file."
   ]
  },
  {
   "cell_type": "code",
   "execution_count": 4,
   "metadata": {
    "execution": {
     "iopub.execute_input": "2024-10-12T17:59:53.605391Z",
     "iopub.status.busy": "2024-10-12T17:59:53.604694Z",
     "iopub.status.idle": "2024-10-12T17:59:53.642977Z",
     "shell.execute_reply": "2024-10-12T17:59:53.642441Z"
    }
   },
   "outputs": [],
   "source": [
    "# Convert labels to uint8 for saving\n",
    "rgb_label_image = np.stack([label_image.astype(np.uint8)] * 3, axis=-1)\n",
    "\n",
    "# Save the result\n",
    "imsave('../data/labeled_nuclei.png', rgb_label_image)"
   ]
  }
 ],
 "metadata": {
  "language_info": {
   "codemirror_mode": {
    "name": "ipython",
    "version": 3
   },
   "file_extension": ".py",
   "mimetype": "text/x-python",
   "name": "python",
   "nbconvert_exporter": "python",
   "pygments_lexer": "ipython3",
   "version": "3.12.7"
  }
 },
 "nbformat": 4,
 "nbformat_minor": 4
}
