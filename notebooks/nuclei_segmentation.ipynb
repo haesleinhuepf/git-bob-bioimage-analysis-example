{
 "cells": [
  {
   "cell_type": "markdown",
   "metadata": {},
   "source": [
    "## Nuclei Segmentation\n",
    "\n",
    "This notebook demonstrates how to segment and label nuclei in a microscopy image using the Voronoi-Otsu-Labeling algorithm."
   ]
  },
  {
   "cell_type": "markdown",
   "metadata": {},
   "source": [
    "### Step 1: Download and Save the Image\n",
    "\n",
    "We start by downloading the image from the provided URL and saving it to the `data` folder for further processing."
   ]
  },
  {
   "cell_type": "code",
   "execution_count": 1,
   "metadata": {
    "execution": {
     "iopub.execute_input": "2024-10-12T18:38:42.712853Z",
     "iopub.status.busy": "2024-10-12T18:38:42.712668Z",
     "iopub.status.idle": "2024-10-12T18:38:42.888084Z",
     "shell.execute_reply": "2024-10-12T18:38:42.887464Z"
    }
   },
   "outputs": [],
   "source": [
    "import requests\n",
    "from pathlib import Path\n",
    "\n",
    "# Ensure the data directory exists\n",
    "data_folder = Path(\"data\")\n",
    "data_folder.mkdir(exist_ok=True)\n",
    "\n",
    "# Download the image and save it to the data folder\n",
    "img_url = \"https://github.com/user-attachments/assets/c1bf94c5-fe80-4ff9-a46e-d4d9cb9f276f\"\n",
    "img_path = data_folder / \"human_mitosis.png\"\n",
    "\n",
    "response = requests.get(img_url)\n",
    "with open(img_path, \"wb\") as file:\n",
    "    file.write(response.content)\n"
   ]
  },
  {
   "cell_type": "markdown",
   "metadata": {},
   "source": [
    "### Step 2: Load Necessary Libraries\n",
    "\n",
    "We use the `napari-segment-blobs-and-things-with-membranes` library for segmentation and `scikit-image` for image loading and processing."
   ]
  },
  {
   "cell_type": "code",
   "execution_count": 2,
   "metadata": {
    "execution": {
     "iopub.execute_input": "2024-10-12T18:38:42.890477Z",
     "iopub.status.busy": "2024-10-12T18:38:42.890074Z",
     "iopub.status.idle": "2024-10-12T18:38:44.265074Z",
     "shell.execute_reply": "2024-10-12T18:38:44.264392Z"
    }
   },
   "outputs": [
    {
     "name": "stderr",
     "output_type": "stream",
     "text": [
      "/opt/hostedtoolcache/Python/3.12.7/x64/lib/python3.12/site-packages/napari_tools_menu/__init__.py:10: UserWarning: Importing QT failed; now introducing dummy definitions of QMenu class and register_function decorator.\n",
      "  warnings.warn(\"Importing QT failed; now introducing dummy definitions of QMenu class and register_function decorator.\")\n",
      "/opt/hostedtoolcache/Python/3.12.7/x64/lib/python3.12/site-packages/napari_tools_menu/__init__.py:221: UserWarning: Error in monkey patching napari. Please let @haesleinleinhuepf know at\n",
      "https://github.com/haesleinhuepf/napari-tools-menu/issues\n",
      "  warnings.warn(\"Error in monkey patching napari. Please let @haesleinleinhuepf know at\\nhttps://github.com/haesleinhuepf/napari-tools-menu/issues\")\n"
     ]
    }
   ],
   "source": [
    "import napari_segment_blobs_and_things_with_membranes as nsbatwm\n",
    "from skimage import color, io"
   ]
  },
  {
   "cell_type": "markdown",
   "metadata": {},
   "source": [
    "### Step 3: Load the Image\n",
    "\n",
    "Load the image we saved earlier using `skimage.io.imread`."
   ]
  },
  {
   "cell_type": "code",
   "execution_count": 3,
   "metadata": {
    "execution": {
     "iopub.execute_input": "2024-10-12T18:38:44.301617Z",
     "iopub.status.busy": "2024-10-12T18:38:44.300987Z",
     "iopub.status.idle": "2024-10-12T18:38:44.315007Z",
     "shell.execute_reply": "2024-10-12T18:38:44.314395Z"
    }
   },
   "outputs": [
    {
     "data": {
      "text/plain": [
       "(512, 512)"
      ]
     },
     "execution_count": 3,
     "metadata": {},
     "output_type": "execute_result"
    }
   ],
   "source": [
    "image = io.imread(str(img_path))\n",
    "image.shape"
   ]
  },
  {
   "cell_type": "markdown",
   "metadata": {},
   "source": [
    "### Step 4: Apply Voronoi-Otsu-Labeling\n",
    "\n",
    "Apply the Voronoi-Otsu-Labeling algorithm to segment and label the nuclei in the image."
   ]
  },
  {
   "cell_type": "code",
   "execution_count": 4,
   "metadata": {
    "execution": {
     "iopub.execute_input": "2024-10-12T18:38:44.316788Z",
     "iopub.status.busy": "2024-10-12T18:38:44.316596Z",
     "iopub.status.idle": "2024-10-12T18:38:48.350562Z",
     "shell.execute_reply": "2024-10-12T18:38:48.349887Z"
    }
   },
   "outputs": [
    {
     "data": {
      "text/html": [
       "<table>\n",
       "<tr>\n",
       "<td>\n",
       "<img src=\"data:image/png;base64,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\"></img>\n",
       "</td>\n",
       "<td style=\"text-align: center; vertical-align: top;\">\n",
       "<b><a href=\"https://www.napari-hub.org/plugins/napari-segment-blobs-and-things-with-membranes\" target=\"_blank\">nsbatwm made </a>image</b><br/>\n",
       "<table>\n",
       "<tr><td>shape</td><td>()</td></tr>\n",
       "<tr><td>dtype</td><td>int32</td></tr>\n",
       "<tr><td>size</td><td>1024.0 kB</td></tr>\n",
       "<tr><td>min</td><td>0</td></tr><tr><td>max</td><td>301</td></tr>\n",
       "</table>\n",
       "\n",
       "</td>\n",
       "</tr>\n",
       "</table>"
      ],
      "text/plain": [
       "StackViewNDArray(301, dtype=int32)"
      ]
     },
     "execution_count": 4,
     "metadata": {},
     "output_type": "execute_result"
    }
   ],
   "source": [
    "labeled_image = nsbatwm.voronoi_otsu_labeling(image, spot_sigma=3.5, outline_sigma=1)\n",
    "labeled_image.max()"
   ]
  },
  {
   "cell_type": "markdown",
   "metadata": {},
   "source": [
    "### Step 5: Convert the Label Image to RGB\n",
    "\n",
    "Convert the label image to an RGB image where each label is represented by a different color."
   ]
  },
  {
   "cell_type": "code",
   "execution_count": 5,
   "metadata": {
    "execution": {
     "iopub.execute_input": "2024-10-12T18:38:48.352920Z",
     "iopub.status.busy": "2024-10-12T18:38:48.352285Z",
     "iopub.status.idle": "2024-10-12T18:38:48.372021Z",
     "shell.execute_reply": "2024-10-12T18:38:48.371398Z"
    }
   },
   "outputs": [],
   "source": [
    "rgb_image = color.label2rgb(labeled_image, bg_label=0)"
   ]
  },
  {
   "cell_type": "markdown",
   "metadata": {},
   "source": [
    "### Step 6: Save the Resulting RGB Image\n",
    "\n",
    "Save the RGB image as a PNG file to the `data` folder. Convert the image to uint8 before saving."
   ]
  },
  {
   "cell_type": "code",
   "execution_count": 6,
   "metadata": {
    "execution": {
     "iopub.execute_input": "2024-10-12T18:38:48.374053Z",
     "iopub.status.busy": "2024-10-12T18:38:48.373814Z",
     "iopub.status.idle": "2024-10-12T18:38:48.411412Z",
     "shell.execute_reply": "2024-10-12T18:38:48.410813Z"
    }
   },
   "outputs": [],
   "source": [
    "result_image_path = data_folder / \"human_mitosis_segmented.png\"\n",
    "io.imsave(str(result_image_path), (rgb_image * 255).astype('uint8'))"
   ]
  }
 ],
 "metadata": {
  "language_info": {
   "codemirror_mode": {
    "name": "ipython",
    "version": 3
   },
   "file_extension": ".py",
   "mimetype": "text/x-python",
   "name": "python",
   "nbconvert_exporter": "python",
   "pygments_lexer": "ipython3",
   "version": "3.12.7"
  },
  "widgets": {
   "application/vnd.jupyter.widget-state+json": {
    "state": {
     "4cd5b69e590d468089f455c47bec5a80": {
      "model_module": "ipycanvas",
      "model_module_version": "^0.13",
      "model_name": "CanvasManagerModel",
      "state": {
       "_model_module": "ipycanvas",
       "_model_module_version": "^0.13",
       "_model_name": "CanvasManagerModel",
       "_view_count": null,
       "_view_module": null,
       "_view_module_version": "",
       "_view_name": null
      }
     }
    },
    "version_major": 2,
    "version_minor": 0
   }
  }
 },
 "nbformat": 4,
 "nbformat_minor": 2
}
