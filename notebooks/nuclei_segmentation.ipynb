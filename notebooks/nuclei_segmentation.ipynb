{
 "cells": [
  {
   "cell_type": "markdown",
   "id": "989d0ab2",
   "metadata": {},
   "source": [
    "# Nuclei Segmentation using Voronoi-Otsu-Labeling\n",
    "\n",
    "In this notebook, we will perform segmentation of nuclei from a fluorescence microscopy image using the Voronoi-Otsu-Labeling algorithm. The resulting segmented image will then be converted into RGB format and saved.\n",
    "\n",
    "> ![human_mitosis](../data/human_mitosis.png)"
   ]
  },
  {
   "cell_type": "code",
   "execution_count": 1,
   "id": "7294be13",
   "metadata": {
    "execution": {
     "iopub.execute_input": "2024-10-12T18:20:51.866546Z",
     "iopub.status.busy": "2024-10-12T18:20:51.866371Z",
     "iopub.status.idle": "2024-10-12T18:20:52.930702Z",
     "shell.execute_reply": "2024-10-12T18:20:52.930121Z"
    }
   },
   "outputs": [
    {
     "name": "stderr",
     "output_type": "stream",
     "text": [
      "/opt/hostedtoolcache/Python/3.12.7/x64/lib/python3.12/site-packages/napari_tools_menu/__init__.py:10: UserWarning: Importing QT failed; now introducing dummy definitions of QMenu class and register_function decorator.\n",
      "  warnings.warn(\"Importing QT failed; now introducing dummy definitions of QMenu class and register_function decorator.\")\n",
      "/opt/hostedtoolcache/Python/3.12.7/x64/lib/python3.12/site-packages/napari_tools_menu/__init__.py:221: UserWarning: Error in monkey patching napari. Please let @haesleinleinhuepf know at\n",
      "https://github.com/haesleinhuepf/napari-tools-menu/issues\n",
      "  warnings.warn(\"Error in monkey patching napari. Please let @haesleinleinhuepf know at\\nhttps://github.com/haesleinhuepf/napari-tools-menu/issues\")\n"
     ]
    }
   ],
   "source": [
    "# Import necessary libraries\n",
    "from skimage.io import imread, imsave\n",
    "from skimage.color import label2rgb\n",
    "import napari_segment_blobs_and_things_with_membranes as nsbatwm\n"
   ]
  },
  {
   "cell_type": "markdown",
   "id": "d58fab5b",
   "metadata": {},
   "source": [
    "## Load the image\n",
    "We will start by loading the image that contains the nuclei."
   ]
  },
  {
   "cell_type": "code",
   "execution_count": 2,
   "id": "4b42f19b",
   "metadata": {
    "execution": {
     "iopub.execute_input": "2024-10-12T18:20:52.932654Z",
     "iopub.status.busy": "2024-10-12T18:20:52.932344Z",
     "iopub.status.idle": "2024-10-12T18:20:52.942818Z",
     "shell.execute_reply": "2024-10-12T18:20:52.942362Z"
    }
   },
   "outputs": [],
   "source": [
    "# Load the image\n",
    "image = imread('../data/human_mitosis.png')"
   ]
  },
  {
   "cell_type": "markdown",
   "id": "128d745e",
   "metadata": {},
   "source": [
    "## Segment the image using Voronoi-Otsu-Labeling\n",
    "We will use the Voronoi-Otsu-Labeling algorithm to segment the bright nuclei from the image."
   ]
  },
  {
   "cell_type": "code",
   "execution_count": 3,
   "id": "af5d2cad",
   "metadata": {
    "execution": {
     "iopub.execute_input": "2024-10-12T18:20:52.944527Z",
     "iopub.status.busy": "2024-10-12T18:20:52.944347Z",
     "iopub.status.idle": "2024-10-12T18:20:54.201488Z",
     "shell.execute_reply": "2024-10-12T18:20:54.200913Z"
    }
   },
   "outputs": [],
   "source": [
    "# Segment the nuclei\n",
    "labeled_image = nsbatwm.voronoi_otsu_labeling(image, spot_sigma=3.5, outline_sigma=1)"
   ]
  },
  {
   "cell_type": "markdown",
   "id": "eba2650b",
   "metadata": {},
   "source": [
    "## Convert the labeled image to RGB\n",
    "Now, we will convert the labeled image to RGB format, which is more visually interpretable."
   ]
  },
  {
   "cell_type": "code",
   "execution_count": 4,
   "id": "0ca699ee",
   "metadata": {
    "execution": {
     "iopub.execute_input": "2024-10-12T18:20:54.203674Z",
     "iopub.status.busy": "2024-10-12T18:20:54.203319Z",
     "iopub.status.idle": "2024-10-12T18:20:54.219982Z",
     "shell.execute_reply": "2024-10-12T18:20:54.219466Z"
    }
   },
   "outputs": [],
   "source": [
    "# Convert labeled image to RGB\n",
    "rgb_image = label2rgb(labeled_image, bg_label=0, bg_color=(0, 0, 0))"
   ]
  },
  {
   "cell_type": "markdown",
   "id": "b0625824",
   "metadata": {},
   "source": [
    "## Save the result\n",
    "Finally, we will save the RGB image as a .png file."
   ]
  },
  {
   "cell_type": "code",
   "execution_count": 5,
   "id": "587cb0dd",
   "metadata": {
    "execution": {
     "iopub.execute_input": "2024-10-12T18:20:54.221953Z",
     "iopub.status.busy": "2024-10-12T18:20:54.221758Z",
     "iopub.status.idle": "2024-10-12T18:20:54.258993Z",
     "shell.execute_reply": "2024-10-12T18:20:54.258339Z"
    }
   },
   "outputs": [],
   "source": [
    "# Save the resulting RGB image\n",
    "imsave('../data/segmented_nuclei.png', (rgb_image * 255).astype('uint8'))"
   ]
  }
 ],
 "metadata": {
  "language_info": {
   "codemirror_mode": {
    "name": "ipython",
    "version": 3
   },
   "file_extension": ".py",
   "mimetype": "text/x-python",
   "name": "python",
   "nbconvert_exporter": "python",
   "pygments_lexer": "ipython3",
   "version": "3.12.7"
  }
 },
 "nbformat": 4,
 "nbformat_minor": 5
}
