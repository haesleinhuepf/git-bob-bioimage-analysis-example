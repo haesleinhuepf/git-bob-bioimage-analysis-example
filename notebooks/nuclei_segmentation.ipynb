{
 "cells": [
  {
   "cell_type": "markdown",
   "id": "06e978dd",
   "metadata": {},
   "source": [
    "# Nuclei Segmentation Using Voronoi-Otsu-Labeling\n",
    "\n",
    "In this notebook, we will segment and label the bright nuclei in an image using the Voronoi-Otsu-Labeling algorithm. The resulting label image will be converted to an uint8 RGB image and saved as a .png file."
   ]
  },
  {
   "cell_type": "markdown",
   "id": "ad370e74",
   "metadata": {},
   "source": [
    "## Step 1: Import necessary libraries"
   ]
  },
  {
   "cell_type": "code",
   "execution_count": 1,
   "id": "0d5238ee",
   "metadata": {
    "execution": {
     "iopub.execute_input": "2024-10-12T20:19:24.001047Z",
     "iopub.status.busy": "2024-10-12T20:19:24.000877Z",
     "iopub.status.idle": "2024-10-12T20:19:25.083958Z",
     "shell.execute_reply": "2024-10-12T20:19:25.083336Z"
    }
   },
   "outputs": [
    {
     "name": "stderr",
     "output_type": "stream",
     "text": [
      "/opt/hostedtoolcache/Python/3.12.7/x64/lib/python3.12/site-packages/napari_tools_menu/__init__.py:10: UserWarning: Importing QT failed; now introducing dummy definitions of QMenu class and register_function decorator.\n",
      "  warnings.warn(\"Importing QT failed; now introducing dummy definitions of QMenu class and register_function decorator.\")\n"
     ]
    }
   ],
   "source": [
    "from skimage.io import imread, imsave\n",
    "from skimage import color\n",
    "import napari_segment_blobs_and_things_with_membranes as nsbatwm\n",
    "import requests\n",
    "from pathlib import Path"
   ]
  },
  {
   "cell_type": "markdown",
   "id": "486be921",
   "metadata": {},
   "source": [
    "## Step 2: Download and load the image\n",
    "We'll download the image to our `data` folder and load it using `imread`."
   ]
  },
  {
   "cell_type": "code",
   "execution_count": 2,
   "id": "6949b3af",
   "metadata": {
    "execution": {
     "iopub.execute_input": "2024-10-12T20:19:25.086047Z",
     "iopub.status.busy": "2024-10-12T20:19:25.085583Z",
     "iopub.status.idle": "2024-10-12T20:19:25.205758Z",
     "shell.execute_reply": "2024-10-12T20:19:25.205210Z"
    }
   },
   "outputs": [],
   "source": [
    "image_url = \"https://github.com/user-attachments/assets/c1bf94c5-fe80-4ff9-a46e-d4d9cb9f276f\"\n",
    "image_path = Path(\"../data/human_mitosis.png\")\n",
    "\n",
    "# Make sure the data folder exists\n",
    "image_path.parent.mkdir(parents=True, exist_ok=True)\n",
    "\n",
    "# Download the image\n",
    "response = requests.get(image_url)\n",
    "image_path.write_bytes(response.content)\n",
    "\n",
    "# Load the image\n",
    "image = imread(image_path)"
   ]
  },
  {
   "cell_type": "markdown",
   "id": "a70d3a41",
   "metadata": {},
   "source": [
    "## Step 3: Segment and label the nuclei\n",
    "We'll use the Voronoi-Otsu-Labeling algorithm to identify and label the nuclei."
   ]
  },
  {
   "cell_type": "code",
   "execution_count": 3,
   "id": "89986cad",
   "metadata": {
    "execution": {
     "iopub.execute_input": "2024-10-12T20:19:25.207870Z",
     "iopub.status.busy": "2024-10-12T20:19:25.207522Z",
     "iopub.status.idle": "2024-10-12T20:19:26.477901Z",
     "shell.execute_reply": "2024-10-12T20:19:26.477283Z"
    }
   },
   "outputs": [],
   "source": [
    "label_image = nsbatwm.voronoi_otsu_labeling(image, spot_sigma=3.5, outline_sigma=1)"
   ]
  },
  {
   "cell_type": "markdown",
   "id": "8181e331",
   "metadata": {},
   "source": [
    "## Step 4: Convert the label image to an RGB image"
   ]
  },
  {
   "cell_type": "code",
   "execution_count": 4,
   "id": "3a4d21c2",
   "metadata": {
    "execution": {
     "iopub.execute_input": "2024-10-12T20:19:26.480327Z",
     "iopub.status.busy": "2024-10-12T20:19:26.479763Z",
     "iopub.status.idle": "2024-10-12T20:19:26.498987Z",
     "shell.execute_reply": "2024-10-12T20:19:26.498460Z"
    }
   },
   "outputs": [],
   "source": [
    "rgb_image = color.label2rgb(label_image, bg_label=0, image_alpha=0)"
   ]
  },
  {
   "cell_type": "markdown",
   "id": "6ab43178",
   "metadata": {},
   "source": [
    "## Step 5: Save the RGB image as a .png file\n",
    "Let's save the converted RGB label image for further analysis or visualization."
   ]
  },
  {
   "cell_type": "code",
   "execution_count": 5,
   "id": "501857fe",
   "metadata": {
    "execution": {
     "iopub.execute_input": "2024-10-12T20:19:26.501084Z",
     "iopub.status.busy": "2024-10-12T20:19:26.500737Z",
     "iopub.status.idle": "2024-10-12T20:19:26.536528Z",
     "shell.execute_reply": "2024-10-12T20:19:26.535946Z"
    }
   },
   "outputs": [],
   "source": [
    "rgb_image_path = Path(\"../data/nuclei_segmented.png\")\n",
    "imsave(rgb_image_path, (rgb_image * 255).astype('uint8'))"
   ]
  }
 ],
 "metadata": {
  "language_info": {
   "codemirror_mode": {
    "name": "ipython",
    "version": 3
   },
   "file_extension": ".py",
   "mimetype": "text/x-python",
   "name": "python",
   "nbconvert_exporter": "python",
   "pygments_lexer": "ipython3",
   "version": "3.12.7"
  }
 },
 "nbformat": 4,
 "nbformat_minor": 5
}
